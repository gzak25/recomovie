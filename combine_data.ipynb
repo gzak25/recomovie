{
 "cells": [
  {
   "cell_type": "code",
   "execution_count": 1,
   "metadata": {},
   "outputs": [],
   "source": [
    "import json\n",
    "import re"
   ]
  },
  {
   "cell_type": "markdown",
   "metadata": {},
   "source": [
    "### Pull in the titles, genres and ratings"
   ]
  },
  {
   "cell_type": "code",
   "execution_count": 6,
   "metadata": {},
   "outputs": [
    {
     "name": "stdout",
     "output_type": "stream",
     "text": [
      "{'L.A. Confidential (1997)': {'rating': 99}, 'The Godfather (1972)': {'rating': 97}, 'Casablanca (1942)': {'rating': 99}, 'Seven Samurai (1954)': {'rating': 100}, 'Parasite (2019)': {'rating': 99}, \"Schindler's List (1993)\": {'rating': 98}, 'Top Gun: Maverick (2022)': {'rating': 96}, 'Toy Story 2 (1999)': {'rating': 100}, 'Chinatown (1974)': {'rating': 98}, 'On the Waterfront (1954)': {'rating': 99}, 'The Battle of Algiers (1966)': {'rating': 99}, 'Toy Story (1995)': {'rating': 100}, 'Rear Window (1954)': {'rating': 98}, 'Modern Times (1936)': {'rating': 98}, 'How to Train Your Dragon (2010)': {'rating': 99}, 'All About Eve (1950)': {'rating': 99}, 'Spirited Away (2001)': {'rating': 96}, 'Up (2009)': {'rating': 98}, 'The Third Man (1949)': {'rating': 99}, 'Spotlight (2015)': {'rating': 97}, 'Spider-Man: Into the Spider-Verse (2018)': {'rating': 97}, 'The Philadelphia Story (1940)': {'rating': 100}, 'Finding Nemo (2003)': {'rating': 99}, \"Singin' in the Rain (1952)\": {'rating': 100}, '12 Angry Men (1957)': {'rating': 100}, 'Toy Story 3 (2010)': {'rating': 98}, 'Sunset Boulevard (1950)': {'rating': 98}, 'Coco (2017)': {'rating': 97}, 'The Godfather, Part II (1974)': {'rating': 96}, 'Three Colors: Red (1994)': {'rating': 100}, 'Selma (2014)': {'rating': 99}, 'Zootopia (2016)': {'rating': 98}, 'Citizen Kane (1941)': {'rating': 99}, 'Annie Hall (1977)': {'rating': 97}, 'Cool Hand Luke (1967)': {'rating': 100}, 'The Holdovers (2023)': {'rating': 97}, 'Inside Out (2015)': {'rating': 98}, 'Dr. Strangelove Or: How I Learned to Stop Worrying and Love the Bomb (1964)': {'rating': 98}, 'Let the Right One In (2008)': {'rating': 98}, 'The Lord of the Rings: The Two Towers (2002)': {'rating': 95}, 'Knives Out (2019)': {'rating': 97}, 'M (1931)': {'rating': 100}, 'Toy Story 4 (2019)': {'rating': 97}, 'The Wrestler (2008)': {'rating': 99}, 'Goodfellas (1990)': {'rating': 94}, 'The Wizard of Oz (1939)': {'rating': 98}, 'Double Indemnity (1944)': {'rating': 97}, 'Psycho (1960)': {'rating': 97}, 'Paddington 2 (2017)': {'rating': 99}, 'Before Sunrise (1995)': {'rating': 100}, 'The Dark Knight (2008)': {'rating': 94}, 'The Maltese Falcon (1941)': {'rating': 99}, 'It Happened One Night (1934)': {'rating': 98}, 'The Wages of Fear (1953)': {'rating': 100}, 'North by Northwest (1959)': {'rating': 97}, 'Bicycle Thieves (1948)': {'rating': 99}, 'Alien (1979)': {'rating': 93}, 'Argo (2012)': {'rating': 96}, 'Get Out (2017)': {'rating': 98}, 'The Kid (1921)': {'rating': 100}, 'Mission: Impossible - Dead Reckoning Part One (2023)': {'rating': 96}, 'The Pianist (2002)': {'rating': 95}, 'Kind Hearts and Coronets (1949)': {'rating': 100}, 'The 400 Blows (1959)': {'rating': 99}, 'Grave of the Fireflies (1988)': {'rating': 100}, 'The Big Sick (2017)': {'rating': 98}, 'Minari (2020)': {'rating': 98}, 'Portrait of a Lady on Fire (2019)': {'rating': 97}, 'The Treasure of the Sierra Madre (1948)': {'rating': 100}, 'Apocalypse Now (1979)': {'rating': 90}, 'Mission: Impossible - Fallout (2018)': {'rating': 98}, 'The Last Picture Show (1971)': {'rating': 98}, 'Tampopo (1985)': {'rating': 100}, 'Mad Max: Fury Road (2015)': {'rating': 97}, 'Tokyo Story (1953)': {'rating': 100}, \"A Hard Day's Night (1964)\": {'rating': 98}, 'Metropolis (1927)': {'rating': 97}, 'Good Will Hunting (1997)': {'rating': 97}, 'The Gold Rush (1925)': {'rating': 100}, 'Aliens (1986)': {'rating': 94}, 'Spider-Man: Across the Spider-Verse (2023)': {'rating': 95}, 'The Good, the Bad and the Ugly (1966)': {'rating': 97}, 'Harry Potter and the Deathly Hallows: Part 2 (2011)': {'rating': 96}, 'The Silence of the Lambs (1991)': {'rating': 95}, 'Fanny and Alexander (1982)': {'rating': 100}, 'Laura (1944)': {'rating': 100}, 'The Shop Around the Corner (1940)': {'rating': 99}, 'His Girl Friday (1940)': {'rating': 99}, 'All Quiet on the Western Front (1930)': {'rating': 98}, 'Monsters, Inc. (2001)': {'rating': 96}, 'Nights of Cabiria (1957)': {'rating': 100}, 'Pather Panchali (1955)': {'rating': 98}, 'Meet Me in St. Louis (1944)': {'rating': 99}, 'Witness for the Prosecution (1957)': {'rating': 100}, 'Eighth Grade (2018)': {'rating': 99}, 'Rebecca (1940)': {'rating': 98}, 'Stalker (1979)': {'rating': 100}, 'The Terminator (1984)': {'rating': 100}, 'Memento (2000)': {'rating': 94}, 'The Social Network (2010)': {'rating': 96}, 'The Hurt Locker (2008)': {'rating': 96}, '12 Years a Slave (2013)': {'rating': 95}, 'Catch Me if You Can (2002)': {'rating': 96}, 'Jaws (1975)': {'rating': 97}, 'A Man Escaped (1956)': {'rating': 100}, \"Pan's Labyrinth (2006)\": {'rating': 95}, 'The Red Shoes (1948)': {'rating': 98}, 'Anatomy of a Murder (1959)': {'rating': 100}, 'Das Boot (1981)': {'rating': 98}, 'Ikiru (1952)': {'rating': 98}, 'Open City (1945)': {'rating': 100}, 'Lady Bird (2017)': {'rating': 99}, 'Hunt for the Wilderpeople (2016)': {'rating': 97}, 'Hell or High Water (2016)': {'rating': 97}, 'Army of Shadows (1969)': {'rating': 97}, '007: Goldfinger (1964)': {'rating': 99}, 'The Lady Eve (1941)': {'rating': 99}, 'Saving Private Ryan (1998)': {'rating': 94}, 'Ratatouille (2007)': {'rating': 96}, 'Star Trek (2009)': {'rating': 94}, 'The Iron Giant (1999)': {'rating': 96}, 'Monty Python and the Holy Grail (1975)': {'rating': 96}, 'Star Wars: Episode IV - A New Hope (1977)': {'rating': 93}, 'Shadow of a Doubt (1943)': {'rating': 100}, 'WALL-E (2008)': {'rating': 95}, 'Brooklyn (2015)': {'rating': 97}, 'Mr. Smith Goes to Washington (1939)': {'rating': 97}, 'Spider-Man: No Way Home (2021)': {'rating': 93}, 'The Best Years of Our Lives (1946)': {'rating': 98}, 'The Bridge on the River Kwai (1957)': {'rating': 96}, 'Ali: Fear Eats the Soul (1974)': {'rating': 100}, 'Whiplash (2014)': {'rating': 94}, 'The Farewell (2019)': {'rating': 97}, 'Unforgiven (1992)': {'rating': 96}, 'The Adventures of Robin Hood (1938)': {'rating': 100}, 'Pulp Fiction (1994)': {'rating': 92}, \"The King's Speech (2010)\": {'rating': 94}, 'Leave No Trace (2018)': {'rating': 100}, 'Star Wars: Episode V - The Empire Strikes Back (1980)': {'rating': 95}, 'The Passion of Joan of Arc (1928)': {'rating': 98}, 'Quiz Show (1994)': {'rating': 97}, 'Avengers: Endgame (2019)': {'rating': 94}, 'Ran (1985)': {'rating': 96}, 'Safety Last (1923)': {'rating': 97}, 'Iron Man (2008)': {'rating': 94}, 'Moana (2016)': {'rating': 95}, 'Little Women (2019)': {'rating': 95}, 'Puss in Boots: The Last Wish (2022)': {'rating': 95}, 'Casino Royale (2006)': {'rating': 94}, 'The Handmaiden (2016)': {'rating': 96}, 'La Haine (1995)': {'rating': 96}, 'La Strada (1954)': {'rating': 98}, 'Rashomon (1950)': {'rating': 98}, 'Top Hat (1935)': {'rating': 100}, 'The Artist (2011)': {'rating': 95}, 'The Conformist (1970)': {'rating': 98}, \"One Flew Over the Cuckoo's Nest (1975)\": {'rating': 93}, 'In the Heat of the Night (1967)': {'rating': 95}, 'Raiders of the Lost Ark (1981)': {'rating': 94}, 'The Peanut Butter Falcon (2019)': {'rating': 95}, 'Paths of Glory (1957)': {'rating': 96}, 'King Kong (1933)': {'rating': 97}, 'Children of Paradise (1945)': {'rating': 98}, 'A Beautiful Day in the Neighborhood (2019)': {'rating': 95}, 'The LEGO Movie (2014)': {'rating': 96}, 'Before Sunset (2004)': {'rating': 94}, 'Soul (2020)': {'rating': 95}, 'Creed (2015)': {'rating': 95}, 'John Wick: Chapter 4 (2023)': {'rating': 94}, 'The Princess Bride (1987)': {'rating': 96}, 'Sunrise (1927)': {'rating': 98}, 'Before Midnight (2013)': {'rating': 98}, 'Lawrence of Arabia (1962)': {'rating': 93}, 'Strangers on a Train (1951)': {'rating': 98}, 'Sling Blade (1996)': {'rating': 97}, 'Kubo and the Two Strings (2016)': {'rating': 97}, 'Sweet Smell of Success (1957)': {'rating': 98}, 'The Thin Man (1934)': {'rating': 98}, 'Once Upon a Time in the West (1968)': {'rating': 96}, 'Eternal Sunshine of the Spotless Mind (2004)': {'rating': 92}, 'Sense and Sensibility (1995)': {'rating': 97}, 'BlacKkKlansman (2018)': {'rating': 96}, 'Lost in Translation (2003)': {'rating': 95}, 'Au Hasard Balthazar (1966)': {'rating': 100}, 'Boyhood (2014)': {'rating': 97}, 'The Grapes of Wrath (1940)': {'rating': 100}, 'Sing Street (2016)': {'rating': 95}, 'A Fistful of Dollars (1964)': {'rating': 98}, 'The Truman Show (1998)': {'rating': 94}, 'Life of Brian (1979)': {'rating': 96}, '8 1/2 (1963)': {'rating': 97}, 'Marriage Story (2019)': {'rating': 95}, 'Searching for Bobby Fischer (1993)': {'rating': 98}, 'Battleship Potemkin (1925)': {'rating': 100}, \"Sullivan's Travels (1941)\": {'rating': 100}, 'The Red Circle (1970)': {'rating': 96}, 'The Lost Weekend (1945)': {'rating': 97}, \"Tim Burton's The Nightmare Before Christmas (1993)\": {'rating': 95}, 'Oppenheimer (2023)': {'rating': 93}, 'The Discreet Charm of the Bourgeoisie (1972)': {'rating': 98}, 'The Lord of the Rings: The Fellowship of the Ring (2001)': {'rating': 92}, 'Ford v Ferrari (2019)': {'rating': 92}, 'My Left Foot (1989)': {'rating': 98}, 'Room (2015)': {'rating': 93}, 'The Lord of the Rings: The Return of the King (2003)': {'rating': 94}, 'A Night at the Opera (1935)': {'rating': 97}, 'Halloween (1978)': {'rating': 97}, 'Air (2023)': {'rating': 93}, 'The Sweet Hereafter (1997)': {'rating': 98}, 'Playtime (1967)': {'rating': 98}, 'True Grit (2010)': {'rating': 95}, 'A Quiet Place (2018)': {'rating': 96}, 'Mudbound (2017)': {'rating': 97}, 'Boyz N the Hood (1991)': {'rating': 96}, 'Brazil (1985)': {'rating': 98}, 'Hidden Figures (2016)': {'rating': 93}, 'Grand Illusion (1937)': {'rating': 97}, 'The Conversation (1974)': {'rating': 93}, 'Fargo (1996)': {'rating': 95}, 'Diabolique (1955)': {'rating': 95}, 'The Apartment (1960)': {'rating': 93}, 'Apollo 13 (1995)': {'rating': 96}, 'Princess Mononoke (1997)': {'rating': 93}, 'Umberto D (1952)': {'rating': 98}, 'Black Panther (2018)': {'rating': 96}, 'Bringing Up Baby (1938)': {'rating': 97}, 'The Sting (1973)': {'rating': 93}, 'Logan (2017)': {'rating': 93}, 'Nightcrawler (2014)': {'rating': 95}, 'The Departed (2006)': {'rating': 91}, 'Juno (2007)': {'rating': 93}, 'Hero (2002)': {'rating': 94}, 'Shaun of the Dead (2004)': {'rating': 92}, 'Stagecoach (1939)': {'rating': 100}, 'Back to the Future (1985)': {'rating': 93}, 'Die Hard (1988)': {'rating': 94}, 'No Country for Old Men (2007)': {'rating': 93}, 'The Lion King (1994)': {'rating': 93}, 'Gravity (2013)': {'rating': 96}, 'The Leopard (1963)': {'rating': 98}, 'Day for Night (1973)': {'rating': 98}, 'Badlands (1973)': {'rating': 97}, 'Touch of Evil (1958)': {'rating': 97}, 'Yojimbo (1961)': {'rating': 96}, 'A Streetcar Named Desire (1951)': {'rating': 97}, 'Breathless (1959)': {'rating': 95}, 'The Manchurian Candidate (1962)': {'rating': 97}, 'The French Connection (1971)': {'rating': 97}, 'The Bourne Ultimatum (2007)': {'rating': 92}, 'My Fair Lady (1964)': {'rating': 94}, \"It's a Wonderful Life (1946)\": {'rating': 94}, 'Some Like It Hot (1959)': {'rating': 95}, 'The Fugitive (1993)': {'rating': 96}, 'Guardians of the Galaxy (2014)': {'rating': 92}, 'Airplane! (1980)': {'rating': 97}, 'Groundhog Day (1993)': {'rating': 94}, 'This Is Spinal Tap (1984)': {'rating': 96}, 'Beauty and the Beast (1991)': {'rating': 95}, 'The Taking of Pelham One Two Three (1974)': {'rating': 98}, 'City Lights (1931)': {'rating': 95}, \"Kiki's Delivery Service (1989)\": {'rating': 98}, 'City of God (2002)': {'rating': 91}, \"Rosemary's Baby (1968)\": {'rating': 97}, 'Call Me by Your Name (2017)': {'rating': 95}, 'Aladdin (1992)': {'rating': 96}, 'The Man With a Movie Camera (1929)': {'rating': 98}, 'The Lady Vanishes (1938)': {'rating': 98}, 'The Umbrellas of Cherbourg (1964)': {'rating': 97}, 'Mission: Impossible Rogue Nation (2015)': {'rating': 94}, 'Three Colors: Blue (1993)': {'rating': 97}, 'Milk (2008)': {'rating': 93}, 'Traffic (2000)': {'rating': 93}, 'Invasion of the Body Snatchers (1956)': {'rating': 97}, 'Thor: Ragnarok (2017)': {'rating': 93}, 'The Odd Couple (1968)': {'rating': 97}, 'Bride of Frankenstein (1935)': {'rating': 98}, \"What's Love Got to Do With It (1993)\": {'rating': 97}, 'Star Wars: The Force Awakens (2015)': {'rating': 93}, 'Roman Holiday (1953)': {'rating': 96}, 'Amélie (2001)': {'rating': 90}, 'To Be or Not to Be (1942)': {'rating': 96}, \"All the President's Men (1976)\": {'rating': 94}, 'Throne of Blood (1957)': {'rating': 96}, 'Taxi Driver (1976)': {'rating': 89}, 'The Big Sleep (1946)': {'rating': 96}, \"Marvel's the Avengers (2012)\": {'rating': 91}, 'Secrets & Lies (1996)': {'rating': 96}, 'Dog Day Afternoon (1975)': {'rating': 96}, 'Being There (1979)': {'rating': 95}, 'Aguirre: The Wrath of God (1972)': {'rating': 96}, 'Arrival (2016)': {'rating': 94}, 'Wings of Desire (1987)': {'rating': 95}, 'Raging Bull (1980)': {'rating': 92}, 'Fruitvale Station (2013)': {'rating': 94}, 'La Dolce Vita (1960)': {'rating': 95}, 'Beauty and the Beast (1946)': {'rating': 96}, 'The Killing (1956)': {'rating': 96}, 'The Rules of the Game (1939)': {'rating': 97}, 'Eyes Without a Face (1960)': {'rating': 97}, 'The Cabinet of Dr. Caligari (1919)': {'rating': 96}}\n"
     ]
    }
   ],
   "source": [
    "# Pull in the ratings data first\n",
    "with open(\"title_ratings.txt\", \"r\") as title_ratings:\n",
    "    movie_ratings = json.load(title_ratings)\n",
    "    print(movie_ratings)\n",
    "\n",
    "# Pull in the genre data\n",
    "with open(\"title_genres.txt\", \"r\") as title_genres:\n",
    "    movie_genres = json.load(title_genres)"
   ]
  },
  {
   "cell_type": "markdown",
   "metadata": {},
   "source": [
    "### Merge the data"
   ]
  },
  {
   "cell_type": "code",
   "execution_count": 8,
   "metadata": {},
   "outputs": [
    {
     "name": "stdout",
     "output_type": "stream",
     "text": [
      "{'Avengers: Endgame (2019)': {'rating': 94, 'genres': ['Action', 'Adventure', 'Sci-Fi']}, 'Spider-Man: No Way Home (2021)': {'rating': 93, 'genres': ['Action', 'Adventure', 'Fantasy', 'Sci-Fi']}, 'Top Gun: Maverick (2022)': {'rating': 96, 'genres': ['Action', 'Drama']}, 'Black Panther (2018)': {'rating': 96, 'genres': ['Action', 'Adventure', 'Sci-Fi']}, 'The Dark Knight (2008)': {'rating': 94, 'genres': ['Action', 'Crime', 'Drama', 'Thriller']}, 'Star Wars: Episode IV - A New Hope (1977)': {'rating': 93, 'genres': ['Action', 'Adventure', 'Fantasy', 'Sci-Fi']}, 'Toy Story 4 (2019)': {'rating': 97, 'genres': ['Adventure', 'Animation', 'Comedy', 'Family', 'Fantasy']}, 'The Lion King (1994)': {'rating': 93, 'genres': ['Adventure', 'Animation', 'Drama', 'Family', 'Fantasy', 'Musical']}, 'Toy Story 3 (2010)': {'rating': 98, 'genres': ['Adventure', 'Animation', 'Comedy', 'Family', 'Fantasy']}, 'The Lord of the Rings: The Return of the King (2003)': {'rating': 94, 'genres': ['Adventure', 'Drama', 'Fantasy']}, 'Spider-Man: Across the Spider-Verse (2023)': {'rating': 95, 'genres': ['Action', 'Adventure', 'Animation', 'Family', 'Fantasy', 'Sci-Fi']}, 'Harry Potter and the Deathly Hallows: Part 2 (2011)': {'rating': 96, 'genres': ['Adventure', 'Family', 'Fantasy', 'Mystery']}, 'Finding Nemo (2003)': {'rating': 99, 'genres': ['Adventure', 'Animation', 'Comedy', 'Family']}, 'Inside Out (2015)': {'rating': 98, 'genres': ['Adventure', 'Animation', 'Comedy', 'Drama', 'Family', 'Fantasy']}, 'The Lord of the Rings: The Two Towers (2002)': {'rating': 95, 'genres': ['Adventure', 'Drama', 'Fantasy']}, 'Zootopia (2016)': {'rating': 98, 'genres': ['Action', 'Adventure', 'Animation', 'Comedy', 'Crime', 'Family', 'Mystery']}, 'Guardians of the Galaxy (2014)': {'rating': 92, 'genres': ['Action', 'Adventure', 'Comedy', 'Sci-Fi']}, 'Oppenheimer (2023)': {'rating': 93, 'genres': ['Biography', 'Drama', 'History']}, 'The Lord of the Rings: The Fellowship of the Ring (2001)': {'rating': 92, 'genres': ['Adventure', 'Drama', 'Fantasy']}, 'Iron Man (2008)': {'rating': 94, 'genres': ['Action', 'Adventure', 'Sci-Fi']}, 'Thor: Ragnarok (2017)': {'rating': 93, 'genres': ['Action', 'Adventure', 'Comedy', 'Fantasy', 'Sci-Fi']}, 'Up (2009)': {'rating': 98, 'genres': ['Adventure', 'Animation', 'Comedy', 'Drama', 'Family']}, 'Star Wars: Episode V - The Empire Strikes Back (1980)': {'rating': 95, 'genres': ['Action', 'Adventure', 'Fantasy', 'Sci-Fi']}, 'Monsters, Inc. (2001)': {'rating': 96, 'genres': ['Adventure', 'Animation', 'Comedy', 'Family', 'Fantasy']}, 'Gravity (2013)': {'rating': 96, 'genres': ['Drama', 'Sci-Fi', 'Thriller']}, 'Jaws (1975)': {'rating': 97, 'genres': ['Adventure', 'Drama', 'Horror', 'Thriller']}, 'Star Trek (2009)': {'rating': 94, 'genres': ['Action', 'Adventure', 'Sci-Fi']}, 'Moana (2016)': {'rating': 95, 'genres': ['Adventure', 'Animation', 'Comedy', 'Family', 'Fantasy', 'Musical']}, 'Raiders of the Lost Ark (1981)': {'rating': 94, 'genres': ['Action', 'Adventure']}, 'Toy Story 2 (1999)': {'rating': 100, 'genres': ['Adventure', 'Animation', 'Comedy', 'Family', 'Fantasy']}, 'The Bourne Ultimatum (2007)': {'rating': 92, 'genres': ['Action', 'Mystery', 'Thriller']}, 'Logan (2017)': {'rating': 93, 'genres': ['Action', 'Drama', 'Sci-Fi', 'Thriller']}, 'Toy Story (1995)': {'rating': 100, 'genres': ['Adventure', 'Animation', 'Comedy', 'Family', 'Fantasy']}, 'Mission: Impossible - Fallout (2018)': {'rating': 98, 'genres': ['Action', 'Adventure', 'Thriller']}, 'Beauty and the Beast (1991)': {'rating': 95, 'genres': ['Animation', 'Family', 'Fantasy', 'Musical', 'Romance']}}\n"
     ]
    }
   ],
   "source": [
    "# Container for merged data\n",
    "ratings_and_genres = {}\n",
    "\n",
    "for movie_title in movie_genres:\n",
    "    # movie_title_no_year = movie_title[:-7]\n",
    "    # Intermediate dict to store the movie's rating and genre\n",
    "    movie_dict = {}\n",
    "\n",
    "    # Check if the title is in both data dicts\n",
    "    if movie_title in movie_ratings:\n",
    "        # Append the rating data to the movie_dict\n",
    "        movie_dict[\"rating\"] = movie_ratings[movie_title]['rating']\n",
    "        movie_dict[\"genres\"] = movie_genres[movie_title]\n",
    "\n",
    "        # Add the movie to the overall ratings_and_genres\n",
    "        ratings_and_genres[movie_title] = movie_dict\n",
    "\n",
    "# storing movie titles and their ratings as a hashmap in a new file\n",
    "with open('ratings_genres.txt', 'w') as rating_and_genre: \n",
    "     rating_and_genre.write(json.dumps(ratings_and_genres))\n",
    "\n",
    "# TEST print the ratings and genres\n",
    "print(ratings_and_genres)"
   ]
  }
 ],
 "metadata": {
  "kernelspec": {
   "display_name": ".venv",
   "language": "python",
   "name": "python3"
  },
  "language_info": {
   "codemirror_mode": {
    "name": "ipython",
    "version": 3
   },
   "file_extension": ".py",
   "mimetype": "text/x-python",
   "name": "python",
   "nbconvert_exporter": "python",
   "pygments_lexer": "ipython3",
   "version": "3.11.9"
  }
 },
 "nbformat": 4,
 "nbformat_minor": 2
}
