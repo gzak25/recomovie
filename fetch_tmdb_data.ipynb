{
 "cells": [
  {
   "cell_type": "code",
   "execution_count": 1,
   "metadata": {},
   "outputs": [],
   "source": [
    "import requests\n",
    "from bs4 import BeautifulSoup\n",
    "import matplotlib.pyplot as plt\n",
    "import pandas as pd\n",
    "import json"
   ]
  },
  {
   "cell_type": "code",
   "execution_count": 2,
   "metadata": {},
   "outputs": [],
   "source": [
    "# getting the first page of 200 movies\n",
    "page = requests.get(\"https://www.themoviedb.org/movie/top-rated?language=en-US\")\n",
    "# converting page into readable text file\n",
    "soup = BeautifulSoup(page.content, \"html.parser\")\n",
    "# umcomment to see html as text file\n",
    "# print(soup.prettify())"
   ]
  },
  {
   "cell_type": "code",
   "execution_count": 3,
   "metadata": {},
   "outputs": [],
   "source": [
    "# creating an empty list to store individual movies' websites\n",
    "website = []\n",
    "# looping through links on the page to get a list of links for each movie\n",
    "for a in soup.find_all('a', href=True)[254:313:3]: #indexing by 2s because there are two links on each row\n",
    "    website.append(\"https://www.themoviedb.org\" + a['href']) # concatenating main html link with query string\n",
    "# print(website)"
   ]
  },
  {
   "cell_type": "code",
   "execution_count": 4,
   "metadata": {},
   "outputs": [],
   "source": [
    "# looking at a single movie link\n",
    "link2 = \"https://www.themoviedb.org/movie/1022256-selena-gomez-my-mind-me?language=en-US\"\n",
    "page2 = requests.get(link2)\n",
    "soup2 = BeautifulSoup(page2.content, \"html.parser\")\n",
    "# print(soup2.prettify())\n"
   ]
  },
  {
   "cell_type": "code",
   "execution_count": 5,
   "metadata": {},
   "outputs": [],
   "source": [
    "listy = soup2.find(\"div\", class_=\"user_score_chart\") # finding list of all money amounts on page\n",
    "data_percent = listy.get('data-percent')\n",
    "meta_tag = soup2.find('meta', attrs={'property':'og:title'})\n",
    "title = meta_tag.get('content') # Extract the content attribute"
   ]
  },
  {
   "cell_type": "code",
   "execution_count": 6,
   "metadata": {},
   "outputs": [],
   "source": [
    "titles_ratings = {}\n",
    "# extracting data from each movie's individual website\n",
    "for i in range(len(website)):\n",
    "    page = requests.get(website[i])\n",
    "    soup = BeautifulSoup(page.content, \"html.parser\")\n",
    "    listy = soup.find(\"div\", class_=\"user_score_chart\") # finding list of all money amounts on page\n",
    "    data_percent = listy.get('data-percent')\n",
    "    meta_tag = soup.find('meta', attrs={'property':'og:title'})\n",
    "    title = meta_tag.get('content') # Extract the content attribute\n",
    "    titles_ratings[title] = data_percent\n",
    "\n",
    "# print(titles_ratings)\n",
    "    "
   ]
  },
  {
   "cell_type": "code",
   "execution_count": 7,
   "metadata": {},
   "outputs": [],
   "source": [
    "# storing movie titles and their ratings as a hashmap in a new file\n",
    "with open('title_ratings.txt', 'w') as title_ratings: \n",
    "     title_ratings.write(json.dumps(titles_ratings))"
   ]
  }
 ],
 "metadata": {
  "kernelspec": {
   "display_name": ".venv",
   "language": "python",
   "name": "python3"
  },
  "language_info": {
   "codemirror_mode": {
    "name": "ipython",
    "version": 3
   },
   "file_extension": ".py",
   "mimetype": "text/x-python",
   "name": "python",
   "nbconvert_exporter": "python",
   "pygments_lexer": "ipython3",
   "version": "3.11.9"
  }
 },
 "nbformat": 4,
 "nbformat_minor": 2
}
