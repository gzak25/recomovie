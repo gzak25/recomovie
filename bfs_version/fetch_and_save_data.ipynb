{
 "cells": [
  {
   "cell_type": "code",
   "execution_count": 8,
   "metadata": {},
   "outputs": [],
   "source": [
    "import requests\n",
    "from bs4 import BeautifulSoup\n",
    "import random\n",
    "import time\n",
    "import json"
   ]
  },
  {
   "cell_type": "markdown",
   "metadata": {},
   "source": [
    "## First, get genre data from Box Office Mojo's top 200 grossing movies (2025)\n",
    "\n",
    "### Get the main top 200 page"
   ]
  },
  {
   "cell_type": "code",
   "execution_count": 2,
   "metadata": {},
   "outputs": [],
   "source": [
    "# getting the first page of 200 movies\n",
    "page = requests.get(\"https://www.boxofficemojo.com/chart/top_lifetime_gross/?ref_=bo_cso_ac\")\n",
    "# converting page into readable text file\n",
    "soup = BeautifulSoup(page.content, \"html.parser\")\n",
    "# umcomment to see html as text file\n",
    "# print(soup.prettify())"
   ]
  },
  {
   "cell_type": "markdown",
   "metadata": {},
   "source": [
    "### Retrieve the URLs for all of the top 200 movies on Box Office Mojo"
   ]
  },
  {
   "cell_type": "code",
   "execution_count": 3,
   "metadata": {},
   "outputs": [],
   "source": [
    "# creating an empty list to store individual movies' websites\n",
    "websites = []\n",
    "\n",
    "# looping through links on the page to get a list of links for each movie\n",
    "for link in soup.find_all('a', class_=\"a-link-normal\")[15:415]:\n",
    "    if \"title\" in link.get('href'):\n",
    "       websites.append(\"https://www.boxofficemojo.com/\" + link.get('href')) # concatenating main html link with query string  "
   ]
  },
  {
   "cell_type": "markdown",
   "metadata": {},
   "source": [
    "### Extracting the raw genre data from the retrieved movie websites"
   ]
  },
  {
   "cell_type": "code",
   "execution_count": null,
   "metadata": {},
   "outputs": [
    {
     "name": "stdout",
     "output_type": "stream",
     "text": [
      "Scraping site https://www.boxofficemojo.com//title/tt2488496/?ref_=bo_cso_table_1\n",
      "Scraping site https://www.boxofficemojo.com//title/tt4154796/?ref_=bo_cso_table_2\n",
      "Scraping site https://www.boxofficemojo.com//title/tt10872600/?ref_=bo_cso_table_3\n",
      "Scraping site https://www.boxofficemojo.com//title/tt0499549/?ref_=bo_cso_table_4\n",
      "Scraping site https://www.boxofficemojo.com//title/tt1745960/?ref_=bo_cso_table_5\n",
      "Scraping site https://www.boxofficemojo.com//title/tt1825683/?ref_=bo_cso_table_6\n",
      "Scraping site https://www.boxofficemojo.com//title/tt1630029/?ref_=bo_cso_table_7\n",
      "Scraping site https://www.boxofficemojo.com//title/tt4154756/?ref_=bo_cso_table_8\n",
      "Scraping site https://www.boxofficemojo.com//title/tt0120338/?ref_=bo_cso_table_9\n",
      "Scraping site https://www.boxofficemojo.com//title/tt0369610/?ref_=bo_cso_table_10\n",
      "Scraping site https://www.boxofficemojo.com//title/tt22022452/?ref_=bo_cso_table_11\n",
      "Scraping site https://www.boxofficemojo.com//title/tt6263850/?ref_=bo_cso_table_12\n",
      "Scraping site https://www.boxofficemojo.com//title/tt1517268/?ref_=bo_cso_table_13\n",
      "Scraping site https://www.boxofficemojo.com//title/tt0848228/?ref_=bo_cso_table_14\n",
      "Scraping site https://www.boxofficemojo.com//title/tt2527336/?ref_=bo_cso_table_15\n",
      "Scraping site https://www.boxofficemojo.com//title/tt3606756/?ref_=bo_cso_table_16\n",
      "Scraping site https://www.boxofficemojo.com//title/tt6718170/?ref_=bo_cso_table_17\n",
      "Scraping site https://www.boxofficemojo.com//title/tt6105098/?ref_=bo_cso_table_18\n",
      "Scraping site https://www.boxofficemojo.com//title/tt0468569/?ref_=bo_cso_table_19\n",
      "Scraping site https://www.boxofficemojo.com//title/tt3748528/?ref_=bo_cso_table_20\n",
      "Scraping site https://www.boxofficemojo.com//title/tt2527338/?ref_=bo_cso_table_21\n",
      "Scraping site https://www.boxofficemojo.com//title/tt2771200/?ref_=bo_cso_table_22\n",
      "Scraping site https://www.boxofficemojo.com//title/tt0120915/?ref_=bo_cso_table_23\n",
      "Scraping site https://www.boxofficemojo.com//title/tt2277860/?ref_=bo_cso_table_24\n",
      "Scraping site https://www.boxofficemojo.com//title/tt4520988/?ref_=bo_cso_table_25\n",
      "Scraping site https://www.boxofficemojo.com//title/tt1262426/?ref_=bo_cso_table_26\n",
      "Scraping site https://www.boxofficemojo.com//title/tt0076759/?ref_=bo_cso_table_27\n",
      "Scraping site https://www.boxofficemojo.com//title/tt13622970/?ref_=bo_cso_table_28\n",
      "Scraping site https://www.boxofficemojo.com//title/tt2395427/?ref_=bo_cso_table_29\n",
      "Scraping site https://www.boxofficemojo.com//title/tt9114286/?ref_=bo_cso_table_30\n",
      "Scraping site https://www.boxofficemojo.com//title/tt1345836/?ref_=bo_cso_table_31\n",
      "Scraping site https://www.boxofficemojo.com//title/tt0298148/?ref_=bo_cso_table_32\n",
      "Scraping site https://www.boxofficemojo.com//title/tt0083866/?ref_=bo_cso_table_33\n",
      "Scraping site https://www.boxofficemojo.com//title/tt1979376/?ref_=bo_cso_table_34\n",
      "Scraping site https://www.boxofficemojo.com//title/tt4154664/?ref_=bo_cso_table_35\n",
      "Scraping site https://www.boxofficemojo.com//title/tt0110357/?ref_=bo_cso_table_36\n",
      "Scraping site https://www.boxofficemojo.com//title/tt1951264/?ref_=bo_cso_table_37\n",
      "Scraping site https://www.boxofficemojo.com//title/tt0383574/?ref_=bo_cso_table_38\n",
      "Scraping site https://www.boxofficemojo.com//title/tt4881806/?ref_=bo_cso_table_39\n",
      "Scraping site https://www.boxofficemojo.com//title/tt0435761/?ref_=bo_cso_table_40\n",
      "Scraping site https://www.boxofficemojo.com//title/tt0451279/?ref_=bo_cso_table_41\n",
      "Scraping site https://www.boxofficemojo.com//title/tt9419884/?ref_=bo_cso_table_42\n",
      "Scraping site https://www.boxofficemojo.com//title/tt1300854/?ref_=bo_cso_table_43\n",
      "Scraping site https://www.boxofficemojo.com//title/tt3498820/?ref_=bo_cso_table_44\n",
      "Scraping site https://www.boxofficemojo.com//title/tt1392170/?ref_=bo_cso_table_45\n",
      "Scraping site https://www.boxofficemojo.com//title/tt0145487/?ref_=bo_cso_table_46\n",
      "Scraping site https://www.boxofficemojo.com//title/tt0107290/?ref_=bo_cso_table_47\n",
      "Scraping site https://www.boxofficemojo.com//title/tt2283362/?ref_=bo_cso_table_48\n",
      "Scraping site https://www.boxofficemojo.com//title/tt1055369/?ref_=bo_cso_table_49\n",
      "Scraping site https://www.boxofficemojo.com//title/tt2294629/?ref_=bo_cso_table_50\n",
      "Scraping site https://www.boxofficemojo.com//title/tt6320628/?ref_=bo_cso_table_51\n",
      "Scraping site https://www.boxofficemojo.com//title/tt3896198/?ref_=bo_cso_table_52\n",
      "Scraping site https://www.boxofficemojo.com//title/tt0167260/?ref_=bo_cso_table_53\n",
      "Scraping site https://www.boxofficemojo.com//title/tt9362722/?ref_=bo_cso_table_54\n",
      "Scraping site https://www.boxofficemojo.com//title/tt1201607/?ref_=bo_cso_table_55\n",
      "Scraping site https://www.boxofficemojo.com//title/tt0266543/?ref_=bo_cso_table_56\n",
      "Scraping site https://www.boxofficemojo.com//title/tt0121766/?ref_=bo_cso_table_57\n",
      "Scraping site https://www.boxofficemojo.com//title/tt8041270/?ref_=bo_cso_table_58\n",
      "Scraping site https://www.boxofficemojo.com//title/tt0316654/?ref_=bo_cso_table_59\n",
      "Scraping site https://www.boxofficemojo.com//title/tt0335345/?ref_=bo_cso_table_60\n",
      "Scraping site https://www.boxofficemojo.com//title/tt5113044/?ref_=bo_cso_table_61\n",
      "Scraping site https://www.boxofficemojo.com//title/tt1877830/?ref_=bo_cso_table_62\n",
      "Scraping site https://www.boxofficemojo.com//title/tt2709768/?ref_=bo_cso_table_63\n",
      "Scraping site https://www.boxofficemojo.com//title/tt1690953/?ref_=bo_cso_table_64\n",
      "Scraping site https://www.boxofficemojo.com//title/tt3040964/?ref_=bo_cso_table_65\n",
      "Scraping site https://www.boxofficemojo.com//title/tt1431045/?ref_=bo_cso_table_66\n",
      "Scraping site https://www.boxofficemojo.com//title/tt7510222/?ref_=bo_cso_table_67\n",
      "Scraping site https://www.boxofficemojo.com//title/tt6791350/?ref_=bo_cso_table_68\n",
      "Scraping site https://www.boxofficemojo.com//title/tt2096673/?ref_=bo_cso_table_69\n",
      "Scraping site https://www.boxofficemojo.com//title/tt6139732/?ref_=bo_cso_table_70\n",
      "Scraping site https://www.boxofficemojo.com//title/tt2820852/?ref_=bo_cso_table_71\n",
      "Scraping site https://www.boxofficemojo.com//title/tt1399103/?ref_=bo_cso_table_72\n",
      "Scraping site https://www.boxofficemojo.com//title/tt2179136/?ref_=bo_cso_table_73\n",
      "Scraping site https://www.boxofficemojo.com//title/tt0167261/?ref_=bo_cso_table_74\n",
      "Scraping site https://www.boxofficemojo.com//title/tt10648342/?ref_=bo_cso_table_75\n",
      "Scraping site https://www.boxofficemojo.com//title/tt2948356/?ref_=bo_cso_table_76\n",
      "Scraping site https://www.boxofficemojo.com//title/tt0413300/?ref_=bo_cso_table_77\n",
      "Scraping site https://www.boxofficemojo.com//title/tt1951265/?ref_=bo_cso_table_78\n",
      "Scraping site https://www.boxofficemojo.com//title/tt2293640/?ref_=bo_cso_table_79\n",
      "Scraping site https://www.boxofficemojo.com//title/tt7286456/?ref_=bo_cso_table_80\n",
      "Scraping site https://www.boxofficemojo.com//title/tt1477834/?ref_=bo_cso_table_81\n",
      "Scraping site https://www.boxofficemojo.com//title/tt2250912/?ref_=bo_cso_table_82\n",
      "Scraping site https://www.boxofficemojo.com//title/tt1014759/?ref_=bo_cso_table_83\n",
      "Scraping site https://www.boxofficemojo.com//title/tt2015381/?ref_=bo_cso_table_84\n",
      "Scraping site https://www.boxofficemojo.com//title/tt0109830/?ref_=bo_cso_table_85\n",
      "Scraping site https://www.boxofficemojo.com//title/tt2975590/?ref_=bo_cso_table_86\n",
      "Scraping site https://www.boxofficemojo.com//title/tt15398776/?ref_=bo_cso_table_87\n",
      "Scraping site https://www.boxofficemojo.com//title/tt1396484/?ref_=bo_cso_table_88\n",
      "Scraping site https://www.boxofficemojo.com//title/tt1386697/?ref_=bo_cso_table_89\n",
      "Scraping site https://www.boxofficemojo.com//title/tt5463162/?ref_=bo_cso_table_90\n",
      "Scraping site https://www.boxofficemojo.com//title/tt0413267/?ref_=bo_cso_table_91\n",
      "Scraping site https://www.boxofficemojo.com//title/tt7975244/?ref_=bo_cso_table_92\n",
      "Scraping site https://www.boxofficemojo.com//title/tt0120737/?ref_=bo_cso_table_93\n",
      "Scraping site https://www.boxofficemojo.com//title/tt0418279/?ref_=bo_cso_table_94\n",
      "Scraping site https://www.boxofficemojo.com//title/tt0371746/?ref_=bo_cso_table_95\n",
      "Scraping site https://www.boxofficemojo.com//title/tt0241527/?ref_=bo_cso_table_96\n",
      "Scraping site https://www.boxofficemojo.com//title/tt0367882/?ref_=bo_cso_table_97\n",
      "Scraping site https://www.boxofficemojo.com//title/tt0086190/?ref_=bo_cso_table_98\n",
      "Scraping site https://www.boxofficemojo.com//title/tt3501632/?ref_=bo_cso_table_99\n",
      "Scraping site https://www.boxofficemojo.com//title/tt1228705/?ref_=bo_cso_table_100\n",
      "Scraping site https://www.boxofficemojo.com//title/tt0121765/?ref_=bo_cso_table_101\n",
      "Scraping site https://www.boxofficemojo.com//title/tt0449088/?ref_=bo_cso_table_102\n",
      "Scraping site https://www.boxofficemojo.com//title/tt0116629/?ref_=bo_cso_table_103\n",
      "Scraping site https://www.boxofficemojo.com//title/tt0325980/?ref_=bo_cso_table_104\n",
      "Scraping site https://www.boxofficemojo.com//title/tt1074638/?ref_=bo_cso_table_105\n",
      "Scraping site https://www.boxofficemojo.com//title/tt0903624/?ref_=bo_cso_table_106\n",
      "Scraping site https://www.boxofficemojo.com//title/tt0417741/?ref_=bo_cso_table_107\n",
      "Scraping site https://www.boxofficemojo.com//title/tt1325004/?ref_=bo_cso_table_108\n",
      "Scraping site https://www.boxofficemojo.com//title/tt5971474/?ref_=bo_cso_table_109\n",
      "Scraping site https://www.boxofficemojo.com//title/tt1259571/?ref_=bo_cso_table_110\n",
      "Scraping site https://www.boxofficemojo.com//title/tt0926084/?ref_=bo_cso_table_111\n",
      "Scraping site https://www.boxofficemojo.com//title/tt2049403/?ref_=bo_cso_table_112\n",
      "Scraping site https://www.boxofficemojo.com//title/tt0167404/?ref_=bo_cso_table_113\n",
      "Scraping site https://www.boxofficemojo.com//title/tt1049413/?ref_=bo_cso_table_114\n",
      "Scraping site https://www.boxofficemojo.com//title/tt0080684/?ref_=bo_cso_table_115\n",
      "Scraping site https://www.boxofficemojo.com//title/tt1375666/?ref_=bo_cso_table_116\n",
      "Scraping site https://www.boxofficemojo.com//title/tt0373889/?ref_=bo_cso_table_117\n",
      "Scraping site https://www.boxofficemojo.com//title/tt1673434/?ref_=bo_cso_table_118\n",
      "Scraping site https://www.boxofficemojo.com//title/tt0363771/?ref_=bo_cso_table_119\n",
      "Scraping site https://www.boxofficemojo.com//title/tt0770828/?ref_=bo_cso_table_120\n",
      "Scraping site https://www.boxofficemojo.com//title/tt0198781/?ref_=bo_cso_table_121\n",
      "Scraping site https://www.boxofficemojo.com//title/tt0330373/?ref_=bo_cso_table_122\n",
      "Scraping site https://www.boxofficemojo.com//title/tt0099785/?ref_=bo_cso_table_123\n",
      "Scraping site https://www.boxofficemojo.com//title/tt15239678/?ref_=bo_cso_table_124\n",
      "Scraping site https://www.boxofficemojo.com//title/tt1951266/?ref_=bo_cso_table_125\n",
      "Scraping site https://www.boxofficemojo.com//title/tt0234215/?ref_=bo_cso_table_126\n",
      "Scraping site https://www.boxofficemojo.com//title/tt1324999/?ref_=bo_cso_table_127\n",
      "Scraping site https://www.boxofficemojo.com//title/tt0290002/?ref_=bo_cso_table_128\n",
      "Scraping site https://www.boxofficemojo.com//title/tt1119646/?ref_=bo_cso_table_129\n",
      "Scraping site https://www.boxofficemojo.com//title/tt1454468/?ref_=bo_cso_table_130\n",
      "Scraping site https://www.boxofficemojo.com//title/tt2709692/?ref_=bo_cso_table_131\n",
      "Scraping site https://www.boxofficemojo.com//title/tt3470600/?ref_=bo_cso_table_132\n",
      "Scraping site https://www.boxofficemojo.com//title/tt0126029/?ref_=bo_cso_table_133\n",
      "Scraping site https://www.boxofficemojo.com//title/tt1453405/?ref_=bo_cso_table_134\n",
      "Scraping site https://www.boxofficemojo.com//title/tt12584954/?ref_=bo_cso_table_135\n",
      "Scraping site https://www.boxofficemojo.com//title/tt0073195/?ref_=bo_cso_table_136\n",
      "Scraping site https://www.boxofficemojo.com//title/tt3469046/?ref_=bo_cso_table_137\n",
      "Scraping site https://www.boxofficemojo.com//title/tt0948470/?ref_=bo_cso_table_138\n",
      "Scraping site https://www.boxofficemojo.com//title/tt0295297/?ref_=bo_cso_table_139\n",
      "Scraping site https://www.boxofficemojo.com//title/tt0170016/?ref_=bo_cso_table_140\n",
      "Scraping site https://www.boxofficemojo.com//title/tt0317705/?ref_=bo_cso_table_141\n",
      "Scraping site https://www.boxofficemojo.com//title/tt1843866/?ref_=bo_cso_table_142\n",
      "Scraping site https://www.boxofficemojo.com//title/tt1170358/?ref_=bo_cso_table_143\n",
      "Scraping site https://www.boxofficemojo.com//title/tt1490017/?ref_=bo_cso_table_144\n",
      "Scraping site https://www.boxofficemojo.com//title/tt0796366/?ref_=bo_cso_table_145\n",
      "Scraping site https://www.boxofficemojo.com//title/tt0480249/?ref_=bo_cso_table_146\n",
      "Scraping site https://www.boxofficemojo.com//title/tt0878804/?ref_=bo_cso_table_147\n",
      "Scraping site https://www.boxofficemojo.com//title/tt2310332/?ref_=bo_cso_table_148\n",
      "Scraping site https://www.boxofficemojo.com//title/tt1411697/?ref_=bo_cso_table_149\n",
      "Scraping site https://www.boxofficemojo.com//title/tt13186482/?ref_=bo_cso_table_150\n",
      "Scraping site https://www.boxofficemojo.com//title/tt1323594/?ref_=bo_cso_table_151\n",
      "Scraping site https://www.boxofficemojo.com//title/tt0096895/?ref_=bo_cso_table_152\n",
      "Scraping site https://www.boxofficemojo.com//title/tt0477347/?ref_=bo_cso_table_153\n",
      "Scraping site https://www.boxofficemojo.com//title/tt0119654/?ref_=bo_cso_table_154\n",
      "Scraping site https://www.boxofficemojo.com//title/tt0304141/?ref_=bo_cso_table_155\n",
      "Scraping site https://www.boxofficemojo.com//title/tt3521164/?ref_=bo_cso_table_156\n",
      "Scraping site https://www.boxofficemojo.com//title/tt0082971/?ref_=bo_cso_table_157\n",
      "Scraping site https://www.boxofficemojo.com//title/tt0120363/?ref_=bo_cso_table_158\n",
      "Scraping site https://www.boxofficemojo.com//title/tt2109248/?ref_=bo_cso_table_159\n",
      "Scraping site https://www.boxofficemojo.com//title/tt0317219/?ref_=bo_cso_table_160\n",
      "Scraping site https://www.boxofficemojo.com//title/tt0087332/?ref_=bo_cso_table_161\n",
      "Scraping site https://www.boxofficemojo.com//title/tt0315327/?ref_=bo_cso_table_162\n",
      "Scraping site https://www.boxofficemojo.com//title/tt0117998/?ref_=bo_cso_table_163\n",
      "Scraping site https://www.boxofficemojo.com//title/tt0259446/?ref_=bo_cso_table_164\n",
      "Scraping site https://www.boxofficemojo.com//title/tt1587310/?ref_=bo_cso_table_165\n",
      "Scraping site https://www.boxofficemojo.com//title/tt1298650/?ref_=bo_cso_table_166\n",
      "Scraping site https://www.boxofficemojo.com//title/tt0892791/?ref_=bo_cso_table_167\n",
      "Scraping site https://www.boxofficemojo.com//title/tt1905041/?ref_=bo_cso_table_168\n",
      "Scraping site https://www.boxofficemojo.com//title/tt1217209/?ref_=bo_cso_table_169\n",
      "Scraping site https://www.boxofficemojo.com//title/tt18259086/?ref_=bo_cso_table_170\n",
      "Scraping site https://www.boxofficemojo.com//title/tt1623205/?ref_=bo_cso_table_171\n",
      "Scraping site https://www.boxofficemojo.com//title/tt0086960/?ref_=bo_cso_table_172\n",
      "Scraping site https://www.boxofficemojo.com//title/tt0376994/?ref_=bo_cso_table_173\n",
      "Scraping site https://www.boxofficemojo.com//title/tt0407304/?ref_=bo_cso_table_174\n",
      "Scraping site https://www.boxofficemojo.com//title/tt3183660/?ref_=bo_cso_table_175\n",
      "Scraping site https://www.boxofficemojo.com//title/tt1877832/?ref_=bo_cso_table_176\n",
      "Scraping site https://www.boxofficemojo.com//title/tt0162222/?ref_=bo_cso_table_177\n",
      "Scraping site https://www.boxofficemojo.com//title/tt0070047/?ref_=bo_cso_table_178\n",
      "Scraping site https://www.boxofficemojo.com//title/tt1211837/?ref_=bo_cso_table_179\n",
      "Scraping site https://www.boxofficemojo.com//title/tt0119567/?ref_=bo_cso_table_180\n",
      "Scraping site https://www.boxofficemojo.com//title/tt0974015/?ref_=bo_cso_table_181\n",
      "Scraping site https://www.boxofficemojo.com//title/tt1408101/?ref_=bo_cso_table_182\n",
      "Scraping site https://www.boxofficemojo.com//title/tt3659388/?ref_=bo_cso_table_183\n",
      "Scraping site https://www.boxofficemojo.com//title/tt0286106/?ref_=bo_cso_table_184\n",
      "Scraping site https://www.boxofficemojo.com//title/tt0448157/?ref_=bo_cso_table_185\n",
      "Scraping site https://www.boxofficemojo.com//title/tt0440963/?ref_=bo_cso_table_186\n",
      "Scraping site https://www.boxofficemojo.com//title/tt3315342/?ref_=bo_cso_table_187\n",
      "Scraping site https://www.boxofficemojo.com//title/tt0266915/?ref_=bo_cso_table_188\n",
      "Scraping site https://www.boxofficemojo.com//title/tt4630562/?ref_=bo_cso_table_189\n",
      "Scraping site https://www.boxofficemojo.com//title/tt9376612/?ref_=bo_cso_table_190\n",
      "Scraping site https://www.boxofficemojo.com//title/tt0910970/?ref_=bo_cso_table_191\n",
      "Scraping site https://www.boxofficemojo.com//title/tt0114709/?ref_=bo_cso_table_192\n",
      "Scraping site https://www.boxofficemojo.com//title/tt2245084/?ref_=bo_cso_table_193\n",
      "Scraping site https://www.boxofficemojo.com//title/tt4912910/?ref_=bo_cso_table_194\n",
      "Scraping site https://www.boxofficemojo.com//title/tt0465234/?ref_=bo_cso_table_195\n",
      "Scraping site https://www.boxofficemojo.com//title/tt1231580/?ref_=bo_cso_table_196\n",
      "Scraping site https://www.boxofficemojo.com//title/tt0107614/?ref_=bo_cso_table_197\n",
      "Scraping site https://www.boxofficemojo.com//title/tt0101414/?ref_=bo_cso_table_198\n",
      "Scraping site https://www.boxofficemojo.com//title/tt1637725/?ref_=bo_cso_table_199\n",
      "Scraping site https://www.boxofficemojo.com//title/tt6166392/?ref_=bo_cso_table_200\n",
      "All done!\n",
      "['Star Wars: Episode VII - The Force Awakens (2015)', 'Avengers: Endgame (2019)', 'Spider-Man: No Way Home (2021)', 'Avatar (2009)', 'Top Gun: Maverick (2022)', 'Black Panther (2018)', 'Avatar: The Way of Water (2022)', 'Avengers: Infinity War (2018)', 'Titanic (1997)', 'Jurassic World (2015)', 'Inside Out 2 (2024)', 'Deadpool & Wolverine (2024)', 'Barbie (2023)', 'The Avengers (2012)', 'Star Wars: Episode VIII - The Last Jedi (2017)', 'Incredibles 2 (2018)', 'The Super Mario Bros. Movie (2023)', 'The Lion King (2019)', 'The Dark Knight (2008)', 'Rogue One: A Star Wars Story (2016)', 'Star Wars: Episode IX - The Rise of Skywalker (2019)', 'Beauty and the Beast (2017)', 'Star Wars: Episode I - The Phantom Menace (1999)', 'Finding Dory (2016)', 'Frozen II (2019)', 'Wicked (2024)', 'Star Wars: Episode IV - A New Hope (1977)', 'Moana 2 (2024)', 'Avengers: Age of Ultron (2015)', 'Black Panther: Wakanda Forever (2022)', 'The Dark Knight Rises (2012)', 'Shrek 2 (2004)', 'E.T. the Extra-Terrestrial (1982)', 'Toy Story 4 (2019)', 'Captain Marvel (2019)', 'The Lion King (1994)', 'The Hunger Games: Catching Fire (2013)', \"Pirates of the Caribbean: Dead Man's Chest (2006)\", 'Jurassic World: Fallen Kingdom (2018)', 'Toy Story 3 (2010)', 'Wonder Woman (2017)', 'Doctor Strange in the Multiverse of Madness (2022)', 'Iron Man 3 (2013)', 'Captain America: Civil War (2016)', 'The Hunger Games (2012)', 'Spider-Man (2002)', 'Jurassic Park (1993)', 'Jumanji: Welcome to the Jungle (2017)', 'Transformers: Revenge of the Fallen (2009)', 'Frozen (2013)', 'Spider-Man: Far from Home (2019)', 'Guardians of the Galaxy Vol. 2 (2017)', 'The Lord of the Rings: The Return of the King (2003)', 'Spider-Man: Across the Spider-Verse (2023)', 'Harry Potter and the Deathly Hallows: Part 2 (2011)', 'Finding Nemo (2003)', 'Star Wars: Episode III - Revenge of the Sith (2005)', 'Jurassic World: Dominion (2022)', 'Spider-Man 2 (2004)', 'The Passion of the Christ (2004)', 'Minions: The Rise of Gru (2022)', 'The Batman (2022)', 'The Secret Life of Pets (2016)', 'Despicable Me 2 (2013)', 'The Jungle Book (2016)', 'Deadpool (2016)', 'Despicable Me 4 (2024)', 'Guardians of the Galaxy Vol. 3 (2023)', 'Inside Out (2015)', 'Aladdin (2019)', 'Furious 7 (2015)', 'Transformers: Dark of the Moon (2011)', 'American Sniper (2014)', 'The Lord of the Rings: The Two Towers (2002)', 'Thor: Love and Thunder (2022)', 'Zootopia (2016)', 'Spider-Man 3 (2007)', 'The Hunger Games: Mockingjay - Part 1 (2014)', 'Minions (2015)', 'Joker (2019)', 'Aquaman (2018)', 'Spider-Man: Homecoming (2017)', 'Alice in Wonderland (2010)', 'Guardians of the Galaxy (2014)', 'Forrest Gump (1994)', 'Batman v Superman: Dawn of Justice (2016)', 'Oppenheimer (2023)', 'It (2017)', 'Suicide Squad (2016)', 'Deadpool 2 (2018)', 'Shrek the Third (2007)', 'Jumanji: The Next Level (2019)', 'The Lord of the Rings: The Fellowship of the Ring (2001)', 'Transformers (2007)', 'Iron Man (2008)', \"Harry Potter and the Sorcerer's Stone (2001)\", 'Indiana Jones and the Kingdom of the Crystal Skull (2008)', 'Star Wars: Episode VI - Return of the Jedi (1983)', 'Thor: Ragnarok (2017)', 'Iron Man 2 (2010)', 'Star Wars: Episode II - Attack of the Clones (2002)', \"Pirates of the Caribbean: At World's End (2007)\", 'Independence Day (1996)', 'Pirates of the Caribbean: The Curse of the Black Pearl (2003)', 'Skyfall (2012)', 'The Hobbit: An Unexpected Journey (2012)', 'Harry Potter and the Half-Blood Prince (2009)', 'The Twilight Saga: Eclipse (2010)', 'The Little Mermaid (2023)', 'The Twilight Saga: New Moon (2009)', 'Harry Potter and the Deathly Hallows: Part 1 (2010)', 'Beetlejuice Beetlejuice (2024)', 'The Sixth Sense (1999)', 'Up (2009)', 'Star Wars: Episode V - The Empire Strikes Back (1980)', 'Inception (2010)', 'Harry Potter and the Order of the Phoenix (2007)', 'The Twilight Saga: Breaking Dawn - Part 2 (2012)', 'The Chronicles of Narnia: The Lion, the Witch and the Wardrobe (2005)', 'Man of Steel (2013)', 'Monsters, Inc. (2001)', 'Harry Potter and the Goblet of Fire (2005)', 'Home Alone (1990)', 'Dune: Part Two (2024)', 'The Hunger Games: Mockingjay - Part 2 (2015)', 'The Matrix Reloaded (2003)', 'The Twilight Saga: Breaking Dawn - Part 1 (2011)', 'Meet the Fockers (2004)', 'The Hangover (2009)', 'Gravity (2013)', 'The Grinch (2018)', 'Sing (2016)', 'Shrek (2001)', 'Monsters University (2013)', 'Twisters (2024)', 'Jaws (1975)', 'Despicable Me 3 (2017)', 'The Amazing Spider-Man (2012)', 'Harry Potter and the Chamber of Secrets (2002)', 'How the Grinch Stole Christmas (2000)', 'The Incredibles (2004)', 'Captain America: The Winter Soldier (2014)', 'The Hobbit: The Desolation of Smaug (2013)', 'The Lego Movie (2014)', 'Star Trek (2009)', 'I Am Legend (2007)', 'The Blind Side (2009)', 'The Hobbit: The Battle of the Five Armies (2014)', 'The Hangover Part II (2011)', 'Mufasa: The Lion King (2024)', 'Despicable Me (2010)', 'Batman (1989)', 'Night at the Museum (2006)', 'Men in Black (1997)', 'Harry Potter and the Prisoner of Azkaban (2004)', 'Moana (2016)', 'Raiders of the Lost Ark (1981)', 'Toy Story 2 (1999)', 'Transformers: Age of Extinction (2014)', 'Cars (2006)', 'Ghostbusters (1984)', 'Bruce Almighty (2003)', 'Twister (1996)', 'My Big Fat Greek Wedding (2002)', 'Maleficent (2014)', 'Pirates of the Caribbean: On Stranger Tides (2011)', 'Shrek Forever After (2010)', 'Fast & Furious 6 (2013)', 'Brave (2012)', 'Sonic the Hedgehog 3 (2024)', 'Oz the Great and Powerful (2013)', 'Beverly Hills Cop (1984)', 'X-Men: The Last Stand (2006)', 'War of the Worlds (2005)', 'Fantastic Beasts and Where to Find Them (2016)', 'X-Men: Days of Future Past (2014)', 'Cast Away (2000)', 'The Exorcist (1973)', 'Doctor Strange (2016)', 'The Lost World: Jurassic Park (1997)', 'Justice League (2017)', 'Star Trek Into Darkness (2013)', 'The Martian (2015)', 'Signs (2002)', 'Hancock (2008)', 'The Bourne Ultimatum (2007)', 'Logan (2017)', 'Rush Hour 2 (2001)', 'The Fate of the Furious (2017)', 'Shang-Chi and the Legend of the Ten Rings (2021)', 'WALL·E (2008)', 'Toy Story (1995)', 'Big Hero 6 (2014)', 'Mission: Impossible - Fallout (2018)', 'National Treasure: Book of Secrets (2007)', 'Alvin and the Chipmunks: The Squeakquel (2009)', 'Mrs. Doubtfire (1993)', 'Beauty and the Beast (1991)', 'Ted (2012)', 'Wonka (2023)']\n",
      "['Action\\n    \\n        Adventure\\n    \\n        Sci-Fi', 'Action\\n    \\n        Adventure\\n    \\n        Sci-Fi', 'Action\\n    \\n        Adventure\\n    \\n        Fantasy\\n    \\n        Sci-Fi', 'Action\\n    \\n        Adventure\\n    \\n        Fantasy\\n    \\n        Sci-Fi', 'Action\\n    \\n        Drama', 'Action\\n    \\n        Adventure\\n    \\n        Sci-Fi', 'Action\\n    \\n        Adventure\\n    \\n        Fantasy\\n    \\n        Sci-Fi', 'Action\\n    \\n        Adventure\\n    \\n        Sci-Fi', 'Drama\\n    \\n        Romance', 'Action\\n    \\n        Adventure\\n    \\n        Sci-Fi', 'Adventure\\n    \\n        Animation\\n    \\n        Comedy\\n    \\n        Drama\\n    \\n        Family\\n    \\n        Fantasy', 'Action\\n    \\n        Adventure\\n    \\n        Comedy\\n    \\n        Sci-Fi', 'Adventure\\n    \\n        Comedy\\n    \\n        Fantasy', 'Action\\n    \\n        Sci-Fi', 'Action\\n    \\n        Adventure\\n    \\n        Fantasy\\n    \\n        Sci-Fi', 'Action\\n    \\n        Adventure\\n    \\n        Animation\\n    \\n        Comedy\\n    \\n        Family\\n    \\n        Fantasy\\n    \\n        Sci-Fi', 'Adventure\\n    \\n        Animation\\n    \\n        Comedy\\n    \\n        Family\\n    \\n        Fantasy', 'Adventure\\n    \\n        Animation\\n    \\n        Drama\\n    \\n        Family\\n    \\n        Fantasy\\n    \\n        Musical', 'Action\\n    \\n        Crime\\n    \\n        Drama\\n    \\n        Thriller', 'Action\\n    \\n        Adventure\\n    \\n        Sci-Fi', 'Action\\n    \\n        Adventure\\n    \\n        Fantasy\\n    \\n        Sci-Fi', 'Adventure\\n    \\n        Family\\n    \\n        Fantasy\\n    \\n        Musical\\n    \\n        Romance', 'Action\\n    \\n        Adventure\\n    \\n        Fantasy\\n    \\n        Sci-Fi', 'Adventure\\n    \\n        Animation\\n    \\n        Comedy\\n    \\n        Family\\n    \\n        Fantasy\\n    \\n        Mystery', 'Adventure\\n    \\n        Animation\\n    \\n        Comedy\\n    \\n        Drama\\n    \\n        Family\\n    \\n        Fantasy\\n    \\n        Musical', 'Fantasy\\n    \\n        Musical\\n    \\n        Romance', 'Action\\n    \\n        Adventure\\n    \\n        Fantasy\\n    \\n        Sci-Fi', 'Adventure\\n    \\n        Animation\\n    \\n        Comedy\\n    \\n        Family\\n    \\n        Fantasy\\n    \\n        Musical', 'Action\\n    \\n        Adventure\\n    \\n        Sci-Fi', 'Action\\n    \\n        Adventure\\n    \\n        Drama\\n    \\n        Sci-Fi', 'Action\\n    \\n        Drama\\n    \\n        Thriller', 'Adventure\\n    \\n        Animation\\n    \\n        Comedy\\n    \\n        Family\\n    \\n        Fantasy\\n    \\n        Romance', 'Adventure\\n    \\n        Family\\n    \\n        Sci-Fi', 'Adventure\\n    \\n        Animation\\n    \\n        Comedy\\n    \\n        Family\\n    \\n        Fantasy', 'Action\\n    \\n        Adventure\\n    \\n        Sci-Fi', 'Adventure\\n    \\n        Animation\\n    \\n        Drama\\n    \\n        Family\\n    \\n        Fantasy\\n    \\n        Musical', 'Action\\n    \\n        Adventure\\n    \\n        Sci-Fi\\n    \\n        Thriller', 'Action\\n    \\n        Adventure\\n    \\n        Fantasy', 'Action\\n    \\n        Adventure\\n    \\n        Sci-Fi', 'Adventure\\n    \\n        Animation\\n    \\n        Comedy\\n    \\n        Family\\n    \\n        Fantasy', 'Action\\n    \\n        Adventure\\n    \\n        Fantasy\\n    \\n        Sci-Fi\\n    \\n        War', 'Action\\n    \\n        Adventure\\n    \\n        Fantasy\\n    \\n        Sci-Fi', 'Action\\n    \\n        Adventure\\n    \\n        Sci-Fi', 'Action\\n    \\n        Sci-Fi', 'Action\\n    \\n        Adventure\\n    \\n        Sci-Fi\\n    \\n        Thriller', 'Action\\n    \\n        Adventure\\n    \\n        Sci-Fi', 'Action\\n    \\n        Adventure\\n    \\n        Sci-Fi\\n    \\n        Thriller', 'Action\\n    \\n        Adventure\\n    \\n        Comedy\\n    \\n        Fantasy', 'Action\\n    \\n        Adventure\\n    \\n        Sci-Fi', 'Adventure\\n    \\n        Animation\\n    \\n        Comedy\\n    \\n        Family\\n    \\n        Fantasy\\n    \\n        Musical', 'Action\\n    \\n        Adventure\\n    \\n        Comedy\\n    \\n        Fantasy\\n    \\n        Sci-Fi', 'Action\\n    \\n        Adventure\\n    \\n        Comedy\\n    \\n        Sci-Fi', 'Adventure\\n    \\n        Drama\\n    \\n        Fantasy', 'Action\\n    \\n        Adventure\\n    \\n        Animation\\n    \\n        Family\\n    \\n        Fantasy\\n    \\n        Sci-Fi', 'Adventure\\n    \\n        Family\\n    \\n        Fantasy\\n    \\n        Mystery', 'Adventure\\n    \\n        Animation\\n    \\n        Comedy\\n    \\n        Family', 'Action\\n    \\n        Adventure\\n    \\n        Fantasy\\n    \\n        Sci-Fi', 'Action\\n    \\n        Adventure\\n    \\n        Sci-Fi\\n    \\n        Thriller', 'Action\\n    \\n        Adventure\\n    \\n        Sci-Fi', 'Drama', 'Adventure\\n    \\n        Animation\\n    \\n        Comedy\\n    \\n        Crime\\n    \\n        Family\\n    \\n        Sci-Fi', 'Action\\n    \\n        Crime\\n    \\n        Drama\\n    \\n        Mystery\\n    \\n        Thriller', 'Adventure\\n    \\n        Animation\\n    \\n        Comedy\\n    \\n        Family', 'Adventure\\n    \\n        Animation\\n    \\n        Comedy\\n    \\n        Crime\\n    \\n        Family\\n    \\n        Sci-Fi', 'Action\\n    \\n        Adventure\\n    \\n        Animation\\n    \\n        Drama\\n    \\n        Family\\n    \\n        Fantasy\\n    \\n        Musical', 'Action\\n    \\n        Comedy\\n    \\n        Sci-Fi', 'Adventure\\n    \\n        Animation\\n    \\n        Comedy\\n    \\n        Crime\\n    \\n        Family\\n    \\n        Sci-Fi', 'Action\\n    \\n        Adventure\\n    \\n        Comedy\\n    \\n        Sci-Fi', 'Adventure\\n    \\n        Animation\\n    \\n        Comedy\\n    \\n        Drama\\n    \\n        Family\\n    \\n        Fantasy', 'Adventure\\n    \\n        Comedy\\n    \\n        Family\\n    \\n        Fantasy\\n    \\n        Musical\\n    \\n        Romance', 'Action\\n    \\n        Thriller', 'Action\\n    \\n        Adventure\\n    \\n        Sci-Fi', 'Action\\n    \\n        Biography\\n    \\n        Drama\\n    \\n        War', 'Adventure\\n    \\n        Drama\\n    \\n        Fantasy', 'Action\\n    \\n        Adventure\\n    \\n        Comedy\\n    \\n        Romance\\n    \\n        Sci-Fi', 'Action\\n    \\n        Adventure\\n    \\n        Animation\\n    \\n        Comedy\\n    \\n        Crime\\n    \\n        Family\\n    \\n        Mystery', 'Action\\n    \\n        Adventure\\n    \\n        Sci-Fi', 'Action\\n    \\n        Adventure\\n    \\n        Sci-Fi\\n    \\n        Thriller', 'Adventure\\n    \\n        Animation\\n    \\n        Comedy\\n    \\n        Crime\\n    \\n        Family\\n    \\n        Sci-Fi', 'Crime\\n    \\n        Drama\\n    \\n        Thriller', 'Action\\n    \\n        Adventure\\n    \\n        Fantasy\\n    \\n        Sci-Fi', 'Action\\n    \\n        Adventure\\n    \\n        Sci-Fi', 'Adventure\\n    \\n        Family\\n    \\n        Fantasy\\n    \\n        Mystery', 'Action\\n    \\n        Adventure\\n    \\n        Comedy\\n    \\n        Sci-Fi', 'Drama\\n    \\n        Romance', 'Action\\n    \\n        Adventure\\n    \\n        Sci-Fi', 'Biography\\n    \\n        Drama\\n    \\n        History', 'Horror', 'Action\\n    \\n        Adventure\\n    \\n        Fantasy\\n    \\n        Sci-Fi', 'Action\\n    \\n        Adventure\\n    \\n        Comedy\\n    \\n        Sci-Fi', 'Adventure\\n    \\n        Animation\\n    \\n        Comedy\\n    \\n        Family\\n    \\n        Fantasy\\n    \\n        Romance', 'Action\\n    \\n        Adventure\\n    \\n        Comedy\\n    \\n        Fantasy', 'Adventure\\n    \\n        Drama\\n    \\n        Fantasy', 'Action\\n    \\n        Adventure\\n    \\n        Sci-Fi', 'Action\\n    \\n        Adventure\\n    \\n        Sci-Fi', 'Adventure\\n    \\n        Family\\n    \\n        Fantasy', 'Action\\n    \\n        Adventure', 'Action\\n    \\n        Adventure\\n    \\n        Fantasy\\n    \\n        Sci-Fi', 'Action\\n    \\n        Adventure\\n    \\n        Comedy\\n    \\n        Fantasy\\n    \\n        Sci-Fi', 'Action\\n    \\n        Sci-Fi', 'Action\\n    \\n        Adventure\\n    \\n        Fantasy\\n    \\n        Sci-Fi', 'Action\\n    \\n        Adventure\\n    \\n        Fantasy', 'Action\\n    \\n        Adventure\\n    \\n        Sci-Fi', 'Action\\n    \\n        Adventure\\n    \\n        Fantasy', 'Action\\n    \\n        Adventure\\n    \\n        Thriller', 'Adventure\\n    \\n        Fantasy', 'Action\\n    \\n        Adventure\\n    \\n        Family\\n    \\n        Fantasy\\n    \\n        Mystery', 'Action\\n    \\n        Adventure\\n    \\n        Drama\\n    \\n        Fantasy\\n    \\n        Mystery\\n    \\n        Romance\\n    \\n        Thriller', 'Adventure\\n    \\n        Family\\n    \\n        Fantasy\\n    \\n        Musical\\n    \\n        Romance', 'Adventure\\n    \\n        Drama\\n    \\n        Fantasy\\n    \\n        Romance', 'Adventure\\n    \\n        Family\\n    \\n        Fantasy\\n    \\n        Mystery', 'Comedy\\n    \\n        Fantasy\\n    \\n        Horror', 'Drama\\n    \\n        Mystery\\n    \\n        Thriller', 'Adventure\\n    \\n        Animation\\n    \\n        Comedy\\n    \\n        Drama\\n    \\n        Family', 'Action\\n    \\n        Adventure\\n    \\n        Fantasy\\n    \\n        Sci-Fi', 'Action\\n    \\n        Adventure\\n    \\n        Sci-Fi\\n    \\n        Thriller', 'Action\\n    \\n        Adventure\\n    \\n        Family\\n    \\n        Fantasy\\n    \\n        Mystery', 'Adventure\\n    \\n        Drama\\n    \\n        Fantasy\\n    \\n        Romance', 'Adventure\\n    \\n        Family\\n    \\n        Fantasy', 'Action\\n    \\n        Adventure\\n    \\n        Sci-Fi', 'Adventure\\n    \\n        Animation\\n    \\n        Comedy\\n    \\n        Family\\n    \\n        Fantasy', 'Adventure\\n    \\n        Family\\n    \\n        Fantasy\\n    \\n        Mystery', 'Comedy\\n    \\n        Family', 'Action\\n    \\n        Adventure\\n    \\n        Drama\\n    \\n        Sci-Fi', 'Action\\n    \\n        Adventure\\n    \\n        Sci-Fi\\n    \\n        Thriller', 'Action\\n    \\n        Sci-Fi', 'Adventure\\n    \\n        Drama\\n    \\n        Fantasy\\n    \\n        Romance\\n    \\n        Thriller', 'Comedy\\n    \\n        Romance', 'Comedy', 'Drama\\n    \\n        Sci-Fi\\n    \\n        Thriller', 'Animation\\n    \\n        Comedy\\n    \\n        Family\\n    \\n        Fantasy', 'Animation\\n    \\n        Comedy\\n    \\n        Family\\n    \\n        Musical', 'Adventure\\n    \\n        Animation\\n    \\n        Comedy\\n    \\n        Family\\n    \\n        Fantasy\\n    \\n        Romance', 'Adventure\\n    \\n        Animation\\n    \\n        Comedy\\n    \\n        Family\\n    \\n        Fantasy', 'Action\\n    \\n        Adventure\\n    \\n        Thriller', 'Adventure\\n    \\n        Drama\\n    \\n        Horror\\n    \\n        Thriller', 'Adventure\\n    \\n        Animation\\n    \\n        Comedy\\n    \\n        Crime\\n    \\n        Family\\n    \\n        Sci-Fi', 'Action\\n    \\n        Sci-Fi', 'Adventure\\n    \\n        Family\\n    \\n        Fantasy\\n    \\n        Mystery', 'Comedy\\n    \\n        Family\\n    \\n        Fantasy', 'Action\\n    \\n        Adventure\\n    \\n        Animation\\n    \\n        Family', 'Action\\n    \\n        Adventure\\n    \\n        Sci-Fi\\n    \\n        Thriller', 'Adventure\\n    \\n        Fantasy', 'Action\\n    \\n        Adventure\\n    \\n        Animation\\n    \\n        Comedy\\n    \\n        Family\\n    \\n        Fantasy\\n    \\n        Sci-Fi', 'Action\\n    \\n        Adventure\\n    \\n        Sci-Fi', 'Drama\\n    \\n        Horror\\n    \\n        Sci-Fi\\n    \\n        Thriller', 'Biography\\n    \\n        Drama\\n    \\n        Sport', 'Adventure\\n    \\n        Fantasy', 'Comedy', 'Adventure\\n    \\n        Animation\\n    \\n        Drama\\n    \\n        Family\\n    \\n        Fantasy\\n    \\n        Musical', 'Adventure\\n    \\n        Animation\\n    \\n        Comedy\\n    \\n        Crime\\n    \\n        Family\\n    \\n        Sci-Fi', 'Action\\n    \\n        Adventure', 'Adventure\\n    \\n        Comedy\\n    \\n        Family\\n    \\n        Fantasy', 'Action\\n    \\n        Adventure\\n    \\n        Comedy\\n    \\n        Sci-Fi', 'Adventure\\n    \\n        Family\\n    \\n        Fantasy\\n    \\n        Mystery', 'Adventure\\n    \\n        Animation\\n    \\n        Comedy\\n    \\n        Family\\n    \\n        Fantasy\\n    \\n        Musical', 'Action\\n    \\n        Adventure', 'Adventure\\n    \\n        Animation\\n    \\n        Comedy\\n    \\n        Family\\n    \\n        Fantasy', 'Action\\n    \\n        Adventure\\n    \\n        Sci-Fi', 'Adventure\\n    \\n        Animation\\n    \\n        Comedy\\n    \\n        Family\\n    \\n        Sport', 'Action\\n    \\n        Comedy\\n    \\n        Fantasy\\n    \\n        Sci-Fi', 'Comedy\\n    \\n        Fantasy', 'Action\\n    \\n        Adventure\\n    \\n        Thriller', 'Comedy\\n    \\n        Drama\\n    \\n        Romance', 'Action\\n    \\n        Adventure\\n    \\n        Drama\\n    \\n        Family\\n    \\n        Fantasy\\n    \\n        Romance', 'Action\\n    \\n        Adventure\\n    \\n        Fantasy', 'Adventure\\n    \\n        Animation\\n    \\n        Comedy\\n    \\n        Family\\n    \\n        Fantasy\\n    \\n        Romance', 'Action\\n    \\n        Thriller', 'Action\\n    \\n        Adventure\\n    \\n        Animation\\n    \\n        Comedy\\n    \\n        Drama\\n    \\n        Family\\n    \\n        Fantasy\\n    \\n        Mystery', 'Action\\n    \\n        Adventure\\n    \\n        Comedy\\n    \\n        Family\\n    \\n        Fantasy\\n    \\n        Sci-Fi', 'Adventure\\n    \\n        Family\\n    \\n        Fantasy', 'Action\\n    \\n        Comedy\\n    \\n        Crime\\n    \\n        Thriller', 'Action\\n    \\n        Adventure\\n    \\n        Sci-Fi', 'Action\\n    \\n        Adventure\\n    \\n        Sci-Fi', 'Adventure\\n    \\n        Family\\n    \\n        Fantasy', 'Action\\n    \\n        Adventure\\n    \\n        Sci-Fi\\n    \\n        Thriller', 'Adventure\\n    \\n        Drama\\n    \\n        Romance', 'Horror', 'Action\\n    \\n        Adventure\\n    \\n        Fantasy\\n    \\n        Sci-Fi', 'Action\\n    \\n        Adventure\\n    \\n        Sci-Fi', 'Action\\n    \\n        Adventure\\n    \\n        Fantasy\\n    \\n        Sci-Fi', 'Action\\n    \\n        Adventure\\n    \\n        Sci-Fi', 'Adventure\\n    \\n        Drama\\n    \\n        Sci-Fi', 'Drama\\n    \\n        Mystery\\n    \\n        Sci-Fi\\n    \\n        Thriller', 'Action\\n    \\n        Comedy\\n    \\n        Drama\\n    \\n        Fantasy', 'Action\\n    \\n        Mystery\\n    \\n        Thriller', 'Action\\n    \\n        Drama\\n    \\n        Sci-Fi\\n    \\n        Thriller', 'Action\\n    \\n        Comedy\\n    \\n        Crime\\n    \\n        Thriller', 'Action\\n    \\n        Crime\\n    \\n        Thriller', 'Action\\n    \\n        Adventure\\n    \\n        Fantasy\\n    \\n        Sci-Fi', 'Adventure\\n    \\n        Animation\\n    \\n        Family\\n    \\n        Sci-Fi', 'Adventure\\n    \\n        Animation\\n    \\n        Comedy\\n    \\n        Family\\n    \\n        Fantasy', 'Action\\n    \\n        Adventure\\n    \\n        Animation\\n    \\n        Comedy\\n    \\n        Crime\\n    \\n        Family\\n    \\n        Sci-Fi', 'Action\\n    \\n        Adventure\\n    \\n        Thriller', 'Action\\n    \\n        Adventure\\n    \\n        Mystery\\n    \\n        Thriller', 'Adventure\\n    \\n        Comedy\\n    \\n        Family\\n    \\n        Fantasy\\n    \\n        Music\\n    \\n        Musical', 'Comedy\\n    \\n        Drama', 'Animation\\n    \\n        Family\\n    \\n        Fantasy\\n    \\n        Musical\\n    \\n        Romance', 'Comedy', 'Adventure\\n    \\n        Comedy\\n    \\n        Family\\n    \\n        Fantasy\\n    \\n        Musical']\n"
     ]
    }
   ],
   "source": [
    "# Title and genre extraction for one website\n",
    "# Create empty lists for extracted titles and genres (not processed yet)\n",
    "titles = []\n",
    "genres = []\n",
    "\n",
    "# Extract the raw data for each movie\n",
    "for website in websites:\n",
    "    print(f\"Scraping site {website}\")\n",
    "    page = requests.get(website)\n",
    "    soup = BeautifulSoup(page.content, \"html.parser\")\n",
    "    # Pull the data from the move's website\n",
    "    # Extract the title\n",
    "    title = soup.find_all(\"h1\", class_=\"a-size-extra-large\")\n",
    "    genres_div = soup.find_all('div', class_='a-section a-spacing-none')\n",
    "    for section in genres_div:\n",
    "        if \"Genres\" in section.find_all('span')[0]:\n",
    "            genres_span = section.find_all('span')[1]\n",
    "\n",
    "    # Store the extracted title and genres\n",
    "    titles.append(title[0].text)\n",
    "    genres.append(genres_span.text)\n",
    "\n",
    "    # Add a randomized 1-3 second delay to avoid getting blocked by the site\n",
    "    time.sleep(random.randint(0,3))\n",
    "\n",
    "print(\"All done!\")"
   ]
  },
  {
   "cell_type": "markdown",
   "metadata": {},
   "source": [
    "### Processing the genre data and creating a data dictionary"
   ]
  },
  {
   "cell_type": "code",
   "execution_count": null,
   "metadata": {},
   "outputs": [
    {
     "name": "stdout",
     "output_type": "stream",
     "text": [
      "{'Star Wars: Episode VII - The Force Awakens (2015)': ['Action', 'Adventure', 'Sci-Fi'], 'Avengers: Endgame (2019)': ['Action', 'Adventure', 'Sci-Fi'], 'Spider-Man: No Way Home (2021)': ['Action', 'Adventure', 'Fantasy', 'Sci-Fi'], 'Avatar (2009)': ['Action', 'Adventure', 'Fantasy', 'Sci-Fi'], 'Top Gun: Maverick (2022)': ['Action', 'Drama'], 'Black Panther (2018)': ['Action', 'Adventure', 'Sci-Fi'], 'Avatar: The Way of Water (2022)': ['Action', 'Adventure', 'Fantasy', 'Sci-Fi'], 'Avengers: Infinity War (2018)': ['Action', 'Adventure', 'Sci-Fi'], 'Titanic (1997)': ['Drama', 'Romance'], 'Jurassic World (2015)': ['Action', 'Adventure', 'Sci-Fi'], 'Inside Out 2 (2024)': ['Adventure', 'Animation', 'Comedy', 'Drama', 'Family', 'Fantasy'], 'Deadpool & Wolverine (2024)': ['Action', 'Adventure', 'Comedy', 'Sci-Fi'], 'Barbie (2023)': ['Adventure', 'Comedy', 'Fantasy'], 'The Avengers (2012)': ['Action', 'Sci-Fi'], 'Star Wars: Episode VIII - The Last Jedi (2017)': ['Action', 'Adventure', 'Fantasy', 'Sci-Fi'], 'Incredibles 2 (2018)': ['Action', 'Adventure', 'Animation', 'Comedy', 'Family', 'Fantasy', 'Sci-Fi'], 'The Super Mario Bros. Movie (2023)': ['Adventure', 'Animation', 'Comedy', 'Family', 'Fantasy'], 'The Lion King (2019)': ['Adventure', 'Animation', 'Drama', 'Family', 'Fantasy', 'Musical'], 'The Dark Knight (2008)': ['Action', 'Crime', 'Drama', 'Thriller'], 'Rogue One: A Star Wars Story (2016)': ['Action', 'Adventure', 'Sci-Fi'], 'Star Wars: Episode IX - The Rise of Skywalker (2019)': ['Action', 'Adventure', 'Fantasy', 'Sci-Fi'], 'Beauty and the Beast (2017)': ['Adventure', 'Family', 'Fantasy', 'Musical', 'Romance'], 'Star Wars: Episode I - The Phantom Menace (1999)': ['Action', 'Adventure', 'Fantasy', 'Sci-Fi'], 'Finding Dory (2016)': ['Adventure', 'Animation', 'Comedy', 'Family', 'Fantasy', 'Mystery'], 'Frozen II (2019)': ['Adventure', 'Animation', 'Comedy', 'Drama', 'Family', 'Fantasy', 'Musical'], 'Wicked (2024)': ['Fantasy', 'Musical', 'Romance'], 'Star Wars: Episode IV - A New Hope (1977)': ['Action', 'Adventure', 'Fantasy', 'Sci-Fi'], 'Moana 2 (2024)': ['Adventure', 'Animation', 'Comedy', 'Family', 'Fantasy', 'Musical'], 'Avengers: Age of Ultron (2015)': ['Action', 'Adventure', 'Sci-Fi'], 'Black Panther: Wakanda Forever (2022)': ['Action', 'Adventure', 'Drama', 'Sci-Fi'], 'The Dark Knight Rises (2012)': ['Action', 'Drama', 'Thriller'], 'Shrek 2 (2004)': ['Adventure', 'Animation', 'Comedy', 'Family', 'Fantasy', 'Romance'], 'E.T. the Extra-Terrestrial (1982)': ['Adventure', 'Family', 'Sci-Fi'], 'Toy Story 4 (2019)': ['Adventure', 'Animation', 'Comedy', 'Family', 'Fantasy'], 'Captain Marvel (2019)': ['Action', 'Adventure', 'Sci-Fi'], 'The Lion King (1994)': ['Adventure', 'Animation', 'Drama', 'Family', 'Fantasy', 'Musical'], 'The Hunger Games: Catching Fire (2013)': ['Action', 'Adventure', 'Sci-Fi', 'Thriller'], \"Pirates of the Caribbean: Dead Man's Chest (2006)\": ['Action', 'Adventure', 'Fantasy'], 'Jurassic World: Fallen Kingdom (2018)': ['Action', 'Adventure', 'Sci-Fi'], 'Toy Story 3 (2010)': ['Adventure', 'Animation', 'Comedy', 'Family', 'Fantasy'], 'Wonder Woman (2017)': ['Action', 'Adventure', 'Fantasy', 'Sci-Fi', 'War'], 'Doctor Strange in the Multiverse of Madness (2022)': ['Action', 'Adventure', 'Fantasy', 'Sci-Fi'], 'Iron Man 3 (2013)': ['Action', 'Adventure', 'Sci-Fi'], 'Captain America: Civil War (2016)': ['Action', 'Sci-Fi'], 'The Hunger Games (2012)': ['Action', 'Adventure', 'Sci-Fi', 'Thriller'], 'Spider-Man (2002)': ['Action', 'Adventure', 'Sci-Fi'], 'Jurassic Park (1993)': ['Action', 'Adventure', 'Sci-Fi', 'Thriller'], 'Jumanji: Welcome to the Jungle (2017)': ['Action', 'Adventure', 'Comedy', 'Fantasy'], 'Transformers: Revenge of the Fallen (2009)': ['Action', 'Adventure', 'Sci-Fi'], 'Frozen (2013)': ['Adventure', 'Animation', 'Comedy', 'Family', 'Fantasy', 'Musical'], 'Spider-Man: Far from Home (2019)': ['Action', 'Adventure', 'Comedy', 'Fantasy', 'Sci-Fi'], 'Guardians of the Galaxy Vol. 2 (2017)': ['Action', 'Adventure', 'Comedy', 'Sci-Fi'], 'The Lord of the Rings: The Return of the King (2003)': ['Adventure', 'Drama', 'Fantasy'], 'Spider-Man: Across the Spider-Verse (2023)': ['Action', 'Adventure', 'Animation', 'Family', 'Fantasy', 'Sci-Fi'], 'Harry Potter and the Deathly Hallows: Part 2 (2011)': ['Adventure', 'Family', 'Fantasy', 'Mystery'], 'Finding Nemo (2003)': ['Adventure', 'Animation', 'Comedy', 'Family'], 'Star Wars: Episode III - Revenge of the Sith (2005)': ['Action', 'Adventure', 'Fantasy', 'Sci-Fi'], 'Jurassic World: Dominion (2022)': ['Action', 'Adventure', 'Sci-Fi', 'Thriller'], 'Spider-Man 2 (2004)': ['Action', 'Adventure', 'Sci-Fi'], 'The Passion of the Christ (2004)': ['Drama'], 'Minions: The Rise of Gru (2022)': ['Adventure', 'Animation', 'Comedy', 'Crime', 'Family', 'Sci-Fi'], 'The Batman (2022)': ['Action', 'Crime', 'Drama', 'Mystery', 'Thriller'], 'The Secret Life of Pets (2016)': ['Adventure', 'Animation', 'Comedy', 'Family'], 'Despicable Me 2 (2013)': ['Adventure', 'Animation', 'Comedy', 'Crime', 'Family', 'Sci-Fi'], 'The Jungle Book (2016)': ['Action', 'Adventure', 'Animation', 'Drama', 'Family', 'Fantasy', 'Musical'], 'Deadpool (2016)': ['Action', 'Comedy', 'Sci-Fi'], 'Despicable Me 4 (2024)': ['Adventure', 'Animation', 'Comedy', 'Crime', 'Family', 'Sci-Fi'], 'Guardians of the Galaxy Vol. 3 (2023)': ['Action', 'Adventure', 'Comedy', 'Sci-Fi'], 'Inside Out (2015)': ['Adventure', 'Animation', 'Comedy', 'Drama', 'Family', 'Fantasy'], 'Aladdin (2019)': ['Adventure', 'Comedy', 'Family', 'Fantasy', 'Musical', 'Romance'], 'Furious 7 (2015)': ['Action', 'Thriller'], 'Transformers: Dark of the Moon (2011)': ['Action', 'Adventure', 'Sci-Fi'], 'American Sniper (2014)': ['Action', 'Biography', 'Drama', 'War'], 'The Lord of the Rings: The Two Towers (2002)': ['Adventure', 'Drama', 'Fantasy'], 'Thor: Love and Thunder (2022)': ['Action', 'Adventure', 'Comedy', 'Romance', 'Sci-Fi'], 'Zootopia (2016)': ['Action', 'Adventure', 'Animation', 'Comedy', 'Crime', 'Family', 'Mystery'], 'Spider-Man 3 (2007)': ['Action', 'Adventure', 'Sci-Fi'], 'The Hunger Games: Mockingjay - Part 1 (2014)': ['Action', 'Adventure', 'Sci-Fi', 'Thriller'], 'Minions (2015)': ['Adventure', 'Animation', 'Comedy', 'Crime', 'Family', 'Sci-Fi'], 'Joker (2019)': ['Crime', 'Drama', 'Thriller'], 'Aquaman (2018)': ['Action', 'Adventure', 'Fantasy', 'Sci-Fi'], 'Spider-Man: Homecoming (2017)': ['Action', 'Adventure', 'Sci-Fi'], 'Alice in Wonderland (2010)': ['Adventure', 'Family', 'Fantasy', 'Mystery'], 'Guardians of the Galaxy (2014)': ['Action', 'Adventure', 'Comedy', 'Sci-Fi'], 'Forrest Gump (1994)': ['Drama', 'Romance'], 'Batman v Superman: Dawn of Justice (2016)': ['Action', 'Adventure', 'Sci-Fi'], 'Oppenheimer (2023)': ['Biography', 'Drama', 'History'], 'It (2017)': ['Horror'], 'Suicide Squad (2016)': ['Action', 'Adventure', 'Fantasy', 'Sci-Fi'], 'Deadpool 2 (2018)': ['Action', 'Adventure', 'Comedy', 'Sci-Fi'], 'Shrek the Third (2007)': ['Adventure', 'Animation', 'Comedy', 'Family', 'Fantasy', 'Romance'], 'Jumanji: The Next Level (2019)': ['Action', 'Adventure', 'Comedy', 'Fantasy'], 'The Lord of the Rings: The Fellowship of the Ring (2001)': ['Adventure', 'Drama', 'Fantasy'], 'Transformers (2007)': ['Action', 'Adventure', 'Sci-Fi'], 'Iron Man (2008)': ['Action', 'Adventure', 'Sci-Fi'], \"Harry Potter and the Sorcerer's Stone (2001)\": ['Adventure', 'Family', 'Fantasy'], 'Indiana Jones and the Kingdom of the Crystal Skull (2008)': ['Action', 'Adventure'], 'Star Wars: Episode VI - Return of the Jedi (1983)': ['Action', 'Adventure', 'Fantasy', 'Sci-Fi'], 'Thor: Ragnarok (2017)': ['Action', 'Adventure', 'Comedy', 'Fantasy', 'Sci-Fi'], 'Iron Man 2 (2010)': ['Action', 'Sci-Fi'], 'Star Wars: Episode II - Attack of the Clones (2002)': ['Action', 'Adventure', 'Fantasy', 'Sci-Fi'], \"Pirates of the Caribbean: At World's End (2007)\": ['Action', 'Adventure', 'Fantasy'], 'Independence Day (1996)': ['Action', 'Adventure', 'Sci-Fi'], 'Pirates of the Caribbean: The Curse of the Black Pearl (2003)': ['Action', 'Adventure', 'Fantasy'], 'Skyfall (2012)': ['Action', 'Adventure', 'Thriller'], 'The Hobbit: An Unexpected Journey (2012)': ['Adventure', 'Fantasy'], 'Harry Potter and the Half-Blood Prince (2009)': ['Action', 'Adventure', 'Family', 'Fantasy', 'Mystery'], 'The Twilight Saga: Eclipse (2010)': ['Action', 'Adventure', 'Drama', 'Fantasy', 'Mystery', 'Romance', 'Thriller'], 'The Little Mermaid (2023)': ['Adventure', 'Family', 'Fantasy', 'Musical', 'Romance'], 'The Twilight Saga: New Moon (2009)': ['Adventure', 'Drama', 'Fantasy', 'Romance'], 'Harry Potter and the Deathly Hallows: Part 1 (2010)': ['Adventure', 'Family', 'Fantasy', 'Mystery'], 'Beetlejuice Beetlejuice (2024)': ['Comedy', 'Fantasy', 'Horror'], 'The Sixth Sense (1999)': ['Drama', 'Mystery', 'Thriller'], 'Up (2009)': ['Adventure', 'Animation', 'Comedy', 'Drama', 'Family'], 'Star Wars: Episode V - The Empire Strikes Back (1980)': ['Action', 'Adventure', 'Fantasy', 'Sci-Fi'], 'Inception (2010)': ['Action', 'Adventure', 'Sci-Fi', 'Thriller'], 'Harry Potter and the Order of the Phoenix (2007)': ['Action', 'Adventure', 'Family', 'Fantasy', 'Mystery'], 'The Twilight Saga: Breaking Dawn - Part 2 (2012)': ['Adventure', 'Drama', 'Fantasy', 'Romance'], 'The Chronicles of Narnia: The Lion, the Witch and the Wardrobe (2005)': ['Adventure', 'Family', 'Fantasy'], 'Man of Steel (2013)': ['Action', 'Adventure', 'Sci-Fi'], 'Monsters, Inc. (2001)': ['Adventure', 'Animation', 'Comedy', 'Family', 'Fantasy'], 'Harry Potter and the Goblet of Fire (2005)': ['Adventure', 'Family', 'Fantasy', 'Mystery'], 'Home Alone (1990)': ['Comedy', 'Family'], 'Dune: Part Two (2024)': ['Action', 'Adventure', 'Drama', 'Sci-Fi'], 'The Hunger Games: Mockingjay - Part 2 (2015)': ['Action', 'Adventure', 'Sci-Fi', 'Thriller'], 'The Matrix Reloaded (2003)': ['Action', 'Sci-Fi'], 'The Twilight Saga: Breaking Dawn - Part 1 (2011)': ['Adventure', 'Drama', 'Fantasy', 'Romance', 'Thriller'], 'Meet the Fockers (2004)': ['Comedy', 'Romance'], 'The Hangover (2009)': ['Comedy'], 'Gravity (2013)': ['Drama', 'Sci-Fi', 'Thriller'], 'The Grinch (2018)': ['Animation', 'Comedy', 'Family', 'Fantasy'], 'Sing (2016)': ['Animation', 'Comedy', 'Family', 'Musical'], 'Shrek (2001)': ['Adventure', 'Animation', 'Comedy', 'Family', 'Fantasy', 'Romance'], 'Monsters University (2013)': ['Adventure', 'Animation', 'Comedy', 'Family', 'Fantasy'], 'Twisters (2024)': ['Action', 'Adventure', 'Thriller'], 'Jaws (1975)': ['Adventure', 'Drama', 'Horror', 'Thriller'], 'Despicable Me 3 (2017)': ['Adventure', 'Animation', 'Comedy', 'Crime', 'Family', 'Sci-Fi'], 'The Amazing Spider-Man (2012)': ['Action', 'Sci-Fi'], 'Harry Potter and the Chamber of Secrets (2002)': ['Adventure', 'Family', 'Fantasy', 'Mystery'], 'How the Grinch Stole Christmas (2000)': ['Comedy', 'Family', 'Fantasy'], 'The Incredibles (2004)': ['Action', 'Adventure', 'Animation', 'Family'], 'Captain America: The Winter Soldier (2014)': ['Action', 'Adventure', 'Sci-Fi', 'Thriller'], 'The Hobbit: The Desolation of Smaug (2013)': ['Adventure', 'Fantasy'], 'The Lego Movie (2014)': ['Action', 'Adventure', 'Animation', 'Comedy', 'Family', 'Fantasy', 'Sci-Fi'], 'Star Trek (2009)': ['Action', 'Adventure', 'Sci-Fi'], 'I Am Legend (2007)': ['Drama', 'Horror', 'Sci-Fi', 'Thriller'], 'The Blind Side (2009)': ['Biography', 'Drama', 'Sport'], 'The Hobbit: The Battle of the Five Armies (2014)': ['Adventure', 'Fantasy'], 'The Hangover Part II (2011)': ['Comedy'], 'Mufasa: The Lion King (2024)': ['Adventure', 'Animation', 'Drama', 'Family', 'Fantasy', 'Musical'], 'Despicable Me (2010)': ['Adventure', 'Animation', 'Comedy', 'Crime', 'Family', 'Sci-Fi'], 'Batman (1989)': ['Action', 'Adventure'], 'Night at the Museum (2006)': ['Adventure', 'Comedy', 'Family', 'Fantasy'], 'Men in Black (1997)': ['Action', 'Adventure', 'Comedy', 'Sci-Fi'], 'Harry Potter and the Prisoner of Azkaban (2004)': ['Adventure', 'Family', 'Fantasy', 'Mystery'], 'Moana (2016)': ['Adventure', 'Animation', 'Comedy', 'Family', 'Fantasy', 'Musical'], 'Raiders of the Lost Ark (1981)': ['Action', 'Adventure'], 'Toy Story 2 (1999)': ['Adventure', 'Animation', 'Comedy', 'Family', 'Fantasy'], 'Transformers: Age of Extinction (2014)': ['Action', 'Adventure', 'Sci-Fi'], 'Cars (2006)': ['Adventure', 'Animation', 'Comedy', 'Family', 'Sport'], 'Ghostbusters (1984)': ['Action', 'Comedy', 'Fantasy', 'Sci-Fi'], 'Bruce Almighty (2003)': ['Comedy', 'Fantasy'], 'Twister (1996)': ['Action', 'Adventure', 'Thriller'], 'My Big Fat Greek Wedding (2002)': ['Comedy', 'Drama', 'Romance'], 'Maleficent (2014)': ['Action', 'Adventure', 'Drama', 'Family', 'Fantasy', 'Romance'], 'Pirates of the Caribbean: On Stranger Tides (2011)': ['Action', 'Adventure', 'Fantasy'], 'Shrek Forever After (2010)': ['Adventure', 'Animation', 'Comedy', 'Family', 'Fantasy', 'Romance'], 'Fast & Furious 6 (2013)': ['Action', 'Thriller'], 'Brave (2012)': ['Action', 'Adventure', 'Animation', 'Comedy', 'Drama', 'Family', 'Fantasy', 'Mystery'], 'Sonic the Hedgehog 3 (2024)': ['Action', 'Adventure', 'Comedy', 'Family', 'Fantasy', 'Sci-Fi'], 'Oz the Great and Powerful (2013)': ['Adventure', 'Family', 'Fantasy'], 'Beverly Hills Cop (1984)': ['Action', 'Comedy', 'Crime', 'Thriller'], 'X-Men: The Last Stand (2006)': ['Action', 'Adventure', 'Sci-Fi'], 'War of the Worlds (2005)': ['Action', 'Adventure', 'Sci-Fi'], 'Fantastic Beasts and Where to Find Them (2016)': ['Adventure', 'Family', 'Fantasy'], 'X-Men: Days of Future Past (2014)': ['Action', 'Adventure', 'Sci-Fi', 'Thriller'], 'Cast Away (2000)': ['Adventure', 'Drama', 'Romance'], 'The Exorcist (1973)': ['Horror'], 'Doctor Strange (2016)': ['Action', 'Adventure', 'Fantasy', 'Sci-Fi'], 'The Lost World: Jurassic Park (1997)': ['Action', 'Adventure', 'Sci-Fi'], 'Justice League (2017)': ['Action', 'Adventure', 'Fantasy', 'Sci-Fi'], 'Star Trek Into Darkness (2013)': ['Action', 'Adventure', 'Sci-Fi'], 'The Martian (2015)': ['Adventure', 'Drama', 'Sci-Fi'], 'Signs (2002)': ['Drama', 'Mystery', 'Sci-Fi', 'Thriller'], 'Hancock (2008)': ['Action', 'Comedy', 'Drama', 'Fantasy'], 'The Bourne Ultimatum (2007)': ['Action', 'Mystery', 'Thriller'], 'Logan (2017)': ['Action', 'Drama', 'Sci-Fi', 'Thriller'], 'Rush Hour 2 (2001)': ['Action', 'Comedy', 'Crime', 'Thriller'], 'The Fate of the Furious (2017)': ['Action', 'Crime', 'Thriller'], 'Shang-Chi and the Legend of the Ten Rings (2021)': ['Action', 'Adventure', 'Fantasy', 'Sci-Fi'], 'WALL·E (2008)': ['Adventure', 'Animation', 'Family', 'Sci-Fi'], 'Toy Story (1995)': ['Adventure', 'Animation', 'Comedy', 'Family', 'Fantasy'], 'Big Hero 6 (2014)': ['Action', 'Adventure', 'Animation', 'Comedy', 'Crime', 'Family', 'Sci-Fi'], 'Mission: Impossible - Fallout (2018)': ['Action', 'Adventure', 'Thriller'], 'National Treasure: Book of Secrets (2007)': ['Action', 'Adventure', 'Mystery', 'Thriller'], 'Alvin and the Chipmunks: The Squeakquel (2009)': ['Adventure', 'Comedy', 'Family', 'Fantasy', 'Music', 'Musical'], 'Mrs. Doubtfire (1993)': ['Comedy', 'Drama'], 'Beauty and the Beast (1991)': ['Animation', 'Family', 'Fantasy', 'Musical', 'Romance'], 'Ted (2012)': ['Comedy'], 'Wonka (2023)': ['Adventure', 'Comedy', 'Family', 'Fantasy', 'Musical']}\n"
     ]
    }
   ],
   "source": [
    "# Create dict for movie titles and genres\n",
    "movies_and_genres = {}\n",
    "\n",
    "# Clean up the genres into a list of strings of each genre\n",
    "for i in range(len(genres)):\n",
    "    genre = genres[i]\n",
    "    # Remove the extraneous spaces from the string\n",
    "    genre_no_space = genre.replace(\" \", \"\")\n",
    "    # Remove new lines and leave as a space to allow easy splitting into list\n",
    "    genre_no_break = genre_no_space.replace(\"\\n\", \" \")\n",
    "    # Split string into a list\n",
    "    genre_list = genre_no_break.split()\n",
    "    # Append the cleaned genre list to the dictionary with the title\n",
    "    movies_and_genres[titles[i]] = genre_list"
   ]
  },
  {
   "cell_type": "markdown",
   "metadata": {},
   "source": [
    "### Save the genres dictionary to a .txt file for usage later"
   ]
  },
  {
   "cell_type": "code",
   "execution_count": null,
   "metadata": {},
   "outputs": [],
   "source": [
    "# Save the dictionary to a file\n",
    "with open(\"title_genres.txt\", \"w\") as title_genres:\n",
    "    title_genres.write(json.dumps(movies_and_genres))"
   ]
  },
  {
   "cell_type": "markdown",
   "metadata": {},
   "source": [
    "## Scraping from Rotten Tomatoes for ratings of top 200 movies\n",
    "\n",
    "### Retrieve the main page first"
   ]
  },
  {
   "cell_type": "code",
   "execution_count": null,
   "metadata": {},
   "outputs": [],
   "source": [
    "# getting the first page of 200 movies\n",
    "page = requests.get(\"https://editorial.rottentomatoes.com/guide/best-movies-of-all-time/\")\n",
    "# converting page into readable text file\n",
    "soup = BeautifulSoup(page.content, \"html.parser\")\n",
    "# umcomment to see html as text file\n",
    "# print(soup.prettify())"
   ]
  },
  {
   "cell_type": "markdown",
   "metadata": {},
   "source": [
    "### Read the ratings data and store it into a dictionary"
   ]
  },
  {
   "cell_type": "code",
   "execution_count": 1,
   "metadata": {},
   "outputs": [
    {
     "ename": "NameError",
     "evalue": "name 'soup' is not defined",
     "output_type": "error",
     "traceback": [
      "\u001b[0;31m---------------------------------------------------------------------------\u001b[0m",
      "\u001b[0;31mNameError\u001b[0m                                 Traceback (most recent call last)",
      "Cell \u001b[0;32mIn[1], line 5\u001b[0m\n\u001b[1;32m      3\u001b[0m titles_ratings \u001b[38;5;241m=\u001b[39m {}\n\u001b[1;32m      4\u001b[0m \u001b[38;5;66;03m# Loop through each movie row\u001b[39;00m\n\u001b[0;32m----> 5\u001b[0m \u001b[38;5;28;01mfor\u001b[39;00m row \u001b[38;5;129;01min\u001b[39;00m \u001b[43msoup\u001b[49m\u001b[38;5;241m.\u001b[39mfind_all(\u001b[38;5;124m'\u001b[39m\u001b[38;5;124mtr\u001b[39m\u001b[38;5;124m'\u001b[39m):\n\u001b[1;32m      6\u001b[0m     movie_data \u001b[38;5;241m=\u001b[39m row\u001b[38;5;241m.\u001b[39mfind(\u001b[38;5;124m'\u001b[39m\u001b[38;5;124mp\u001b[39m\u001b[38;5;124m'\u001b[39m, class_\u001b[38;5;241m=\u001b[39m\u001b[38;5;124m'\u001b[39m\u001b[38;5;124mapple-news-link-wrap movie\u001b[39m\u001b[38;5;124m'\u001b[39m)\n\u001b[1;32m      8\u001b[0m     \u001b[38;5;28;01mif\u001b[39;00m movie_data:\n",
      "\u001b[0;31mNameError\u001b[0m: name 'soup' is not defined"
     ]
    }
   ],
   "source": [
    "# creating an empty list to store individual movies\n",
    "movies = []\n",
    "titles_ratings = {}\n",
    "# Loop through each movie row\n",
    "for row in soup.find_all('tr'):\n",
    "    movie_data = row.find('p', class_='apple-news-link-wrap movie')\n",
    "    \n",
    "    if movie_data:\n",
    "        title = movie_data.find('a', class_='title').get_text(strip=True)\n",
    "        score = int(movie_data.find('span', class_='score').strong.get_text(strip=True).strip(\"%\"))\n",
    "        year = movie_data.find('span', class_='year').get_text(strip=True)\n",
    "        title = title + \" \" + year\n",
    "        # Append data to the list\n",
    "        titles_ratings[title] = {\"rating\": score}\n",
    "\n",
    "# Print results\n",
    "print(titles_ratings)"
   ]
  },
  {
   "cell_type": "markdown",
   "metadata": {},
   "source": [
    "### Save the genre dictionary into a .txt file for usage later"
   ]
  },
  {
   "cell_type": "code",
   "execution_count": null,
   "metadata": {},
   "outputs": [],
   "source": [
    "# storing movie titles and their ratings as a hashmap in a new file\n",
    "with open('title_ratings.txt', 'w') as title_ratings: \n",
    "     title_ratings.write(json.dumps(titles_ratings))"
   ]
  },
  {
   "cell_type": "markdown",
   "metadata": {},
   "source": [
    "# Combine the genre data and ratings data into one dictionary for recommendations\n",
    "\n",
    "### Pull in the titles, genres, and ratings"
   ]
  },
  {
   "cell_type": "code",
   "execution_count": null,
   "metadata": {},
   "outputs": [],
   "source": [
    "# Pull in the ratings data first\n",
    "with open(\"title_ratings.txt\", \"r\") as title_ratings:\n",
    "    movie_ratings = json.load(title_ratings)\n",
    "    print(movie_ratings)\n",
    "\n",
    "# Pull in the genre data\n",
    "with open(\"title_genres.txt\", \"r\") as title_genres:\n",
    "    movie_genres = json.load(title_genres)"
   ]
  },
  {
   "cell_type": "markdown",
   "metadata": {},
   "source": [
    "### Merge all of the data into one dictionary"
   ]
  },
  {
   "cell_type": "code",
   "execution_count": null,
   "metadata": {},
   "outputs": [],
   "source": [
    "# Container for merged data\n",
    "ratings_and_genres = {}\n",
    "\n",
    "for movie_title in movie_genres:\n",
    "    # movie_title_no_year = movie_title[:-7]\n",
    "    # Intermediate dict to store the movie's rating and genre\n",
    "    movie_dict = {}\n",
    "\n",
    "    # Check if the title is in both data dicts\n",
    "    if movie_title in movie_ratings:\n",
    "        # Append the rating data to the movie_dict\n",
    "        movie_dict[\"rating\"] = movie_ratings[movie_title]['rating']\n",
    "        movie_dict[\"genres\"] = movie_genres[movie_title]\n",
    "\n",
    "        # Add the movie to the overall ratings_and_genres\n",
    "        ratings_and_genres[movie_title] = movie_dict\n",
    "\n",
    "# storing movie titles and their ratings as a hashmap in a new file\n",
    "with open('ratings_genres.txt', 'w') as rating_and_genre: \n",
    "     rating_and_genre.write(json.dumps(ratings_and_genres))\n",
    "\n",
    "# TEST print the ratings and genres\n",
    "print(ratings_and_genres)"
   ]
  }
 ],
 "metadata": {
  "kernelspec": {
   "display_name": ".venv",
   "language": "python",
   "name": "python3"
  },
  "language_info": {
   "codemirror_mode": {
    "name": "ipython",
    "version": 3
   },
   "file_extension": ".py",
   "mimetype": "text/x-python",
   "name": "python",
   "nbconvert_exporter": "python",
   "pygments_lexer": "ipython3",
   "version": "3.11.9"
  },
  "orig_nbformat": 4
 },
 "nbformat": 4,
 "nbformat_minor": 2
}
