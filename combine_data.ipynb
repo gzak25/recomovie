{
 "cells": [
  {
   "cell_type": "code",
   "execution_count": null,
   "metadata": {},
   "outputs": [],
   "source": [
    "import json\n",
    "import re"
   ]
  },
  {
   "cell_type": "markdown",
   "metadata": {},
   "source": [
    "### Pull in the titles, genres and ratings"
   ]
  },
  {
   "cell_type": "code",
   "execution_count": 3,
   "metadata": {},
   "outputs": [],
   "source": [
    "# Pull in the ratings data first\n",
    "with open(\"title_ratings.txt\", \"r\") as title_ratings:\n",
    "    movie_ratings = json.load(title_ratings)\n",
    "\n",
    "# Pull in the genre data\n",
    "with open(\"title_genres.txt\", \"r\") as title_genres:\n",
    "    movie_genres = json.load(title_genres)"
   ]
  },
  {
   "cell_type": "markdown",
   "metadata": {},
   "source": [
    "### Merge the data"
   ]
  },
  {
   "cell_type": "code",
   "execution_count": 15,
   "metadata": {},
   "outputs": [
    {
     "name": "stdout",
     "output_type": "stream",
     "text": [
      "{'The Dark Knight (2008)': {'rating': '85', 'genres': ['Action', 'Crime', 'Drama', 'Thriller']}, 'The Lord of the Rings: The Return of the King (2003)': {'rating': '85', 'genres': ['Adventure', 'Drama', 'Fantasy']}}\n"
     ]
    }
   ],
   "source": [
    "# Container for merged data\n",
    "ratings_and_genres = {}\n",
    "\n",
    "for movie_title in movie_genres:\n",
    "    movie_title_no_year = movie_title[:-7]\n",
    "    # Intermediate dict to store the movie's rating and genre\n",
    "    movie_dict = {}\n",
    "\n",
    "    # Check if the title is in both data dicts\n",
    "    if movie_title_no_year in movie_ratings:\n",
    "        # Append the rating data to the movie_dict\n",
    "        movie_dict[\"rating\"] = movie_ratings[movie_title_no_year]['rating']\n",
    "        movie_dict[\"genres\"] = movie_genres[movie_title]\n",
    "\n",
    "        # Add the movie to the overall ratings_and_genres\n",
    "        ratings_and_genres[movie_title] = movie_dict\n",
    "\n",
    "# TEST print the ratings and genres\n",
    "print(ratings_and_genres)"
   ]
  }
 ],
 "metadata": {
  "kernelspec": {
   "display_name": "tangen",
   "language": "python",
   "name": "python3"
  },
  "language_info": {
   "codemirror_mode": {
    "name": "ipython",
    "version": 3
   },
   "file_extension": ".py",
   "mimetype": "text/x-python",
   "name": "python",
   "nbconvert_exporter": "python",
   "pygments_lexer": "ipython3",
   "version": "3.11.10"
  }
 },
 "nbformat": 4,
 "nbformat_minor": 2
}
